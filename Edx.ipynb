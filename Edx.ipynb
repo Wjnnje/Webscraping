{
  "cells": [
    {
      "cell_type": "markdown",
      "metadata": {
        "id": "view-in-github",
        "colab_type": "text"
      },
      "source": [
        "<a href=\"https://colab.research.google.com/github/Wjnnje/Webscraping/blob/main/Edx.ipynb\" target=\"_parent\"><img src=\"https://colab.research.google.com/assets/colab-badge.svg\" alt=\"Open In Colab\"/></a>"
      ]
    },
    {
      "cell_type": "markdown",
      "id": "bd8a6672",
      "metadata": {
        "id": "bd8a6672"
      },
      "source": [
        "# Webscrapping Project"
      ]
    },
    {
      "cell_type": "markdown",
      "id": "12e887ef",
      "metadata": {
        "id": "12e887ef"
      },
      "source": [
        "## Imports"
      ]
    },
    {
      "cell_type": "code",
      "execution_count": null,
      "id": "76ea3fe1",
      "metadata": {
        "id": "76ea3fe1"
      },
      "outputs": [],
      "source": [
        "import pandas as pd\n",
        "import urllib\n",
        "\n",
        "import bs4\n",
        "from bs4 import BeautifulSoup\n",
        "\n",
        "from selenium import webdriver\n",
        "from selenium.webdriver.common.by import By\n",
        "from selenium.webdriver.support.ui import WebDriverWait\n",
        "from selenium.webdriver.support import expected_conditions as EC\n",
        "import pandas as pd\n",
        "from webdriver_manager.firefox import GeckoDriverManager\n",
        "\n",
        "from selenium.webdriver import Keys\n",
        "from selenium.webdriver.firefox.service import Service\n",
        "from selenium.webdriver.firefox.options import Options\n",
        "from selenium.webdriver.firefox.firefox_binary import FirefoxBinary"
      ]
    },
    {
      "cell_type": "markdown",
      "id": "3fd36c32",
      "metadata": {
        "id": "3fd36c32"
      },
      "source": [
        "## Online Courses"
      ]
    },
    {
      "cell_type": "code",
      "execution_count": null,
      "id": "27d8fe6c",
      "metadata": {
        "id": "27d8fe6c",
        "outputId": "1a8f2d69-27dc-4058-8670-9c452fc97b71"
      },
      "outputs": [
        {
          "data": {
            "text/plain": [
              "'url = urls[0]\\n\\ndriver.get(url)\\n\\nWebDriverWait(driver, 10).until(EC.element_to_be_clickable((By.XPATH,\\'//button[@id=\"onetrust-accept-btn-handler\"]\\'))).click()'"
            ]
          },
          "execution_count": 2,
          "metadata": {},
          "output_type": "execute_result"
        }
      ],
      "source": [
        "options = Options()\n",
        "\n",
        "options.binary_location = r\"C:\\Program Files\\Mozilla Firefox\\firefox.exe\"\n",
        "\n",
        "#options.binary_location = r\"C:\\Program Files\\WindowsApps\\Mozilla.Firefox_120.0.0.0_x64__n80bbvh6b1yt2\\VFS\\ProgramFiles\\Firefox Package Root\\firefox.exe\n",
        "#options.set_preference(\"browser.download.folderList\",2)\n",
        "#options.set_preference(\"browser.download.manager.showWhenStarting\", False)\n",
        "\n",
        "service = Service(executable_path=r\"C:\\\\Users\\\\meama\\\\Downloads\\\\geckodriver-v0.33.0-win64\\\\geckodriver.exe\")\n",
        "\n",
        "driver = webdriver.Firefox(service=service, options=options)#options=options)\n",
        "\n",
        "urls=['https://www.futurelearn.com/',\n",
        "     'https://www.edx.org/',\n",
        "     'https://www.classcentral.com',\n",
        "     'https://www.pluralsight.com/',\n",
        "     'https://www.my-mooc.com/en/']\n",
        "\n",
        "\"\"\"url = urls[0]\n",
        "\n",
        "driver.get(url)\n",
        "\n",
        "WebDriverWait(driver, 10).until(EC.element_to_be_clickable((By.XPATH,'//button[@id=\"onetrust-accept-btn-handler\"]'))).click()\"\"\"\n",
        "#onetrust-consent-sdk\n",
        "#wait = WebDriverWait(driver, 10)"
      ]
    },
    {
      "cell_type": "markdown",
      "id": "5e93e641-e71d-41e9-b955-0c46104023d9",
      "metadata": {
        "id": "5e93e641-e71d-41e9-b955-0c46104023d9"
      },
      "source": [
        "### EDX"
      ]
    },
    {
      "cell_type": "code",
      "execution_count": null,
      "id": "81fbb78a-03ce-446b-918d-8f5eacf8a265",
      "metadata": {
        "id": "81fbb78a-03ce-446b-918d-8f5eacf8a265",
        "outputId": "6cda21dd-712e-49ee-efb2-b7a4173b2538"
      },
      "outputs": [
        {
          "data": {
            "text/plain": [
              "'from selenium.common.exceptions import StaleElementReferenceException, NoSuchElementException\\nimport time\\n\\ndef scrapEdx(subject):\\n\\n    WebDriverWait(driver, 100).until(EC.presence_of_element_located((By.CLASS_NAME, \"form-control search-input pl-3 small default\")))\\n    time.sleep(0.5)\\n    \\n    WebDriverWait(driver, 100).until(EC.element_to_be_clickable((By.XPATH, \"//input[@class=\\'form-control search-input pl-3 small default\\']\"))).send_keys(subject)\\n    #search_bar = driver.find_element(\"xpath\", \"//input[@class=\\'form-control search-input pl-3 small default\\']\")\\n    #pgn-searchfield-input-32032\\n    search_bar.send_keys(subject)\\n\\n    search_bar.submit()\\n    print(\"search done\")\\n    courses=[]\\n    \\n    try:\\n        elements = driver.find_elements(\"xpath\", \"//*[@class=\\'base-card-wrapper\\']\")\\n        print(len(elements))\\n        #courses=[]\\n        i=1\\n        for element in elements:\\n            infos=[]\\n            \\n            if i%5 : WebDriverWait(driver, 10)\\n            i+=1\\n            \\n            try:\\n                card_link = element.find_element(\"xpath\", \".//*[@class=\\'base-card-link\\']\")\\n                title_gp=card_link.find_element(\"xpath\", \".//*[@class=\\'pgn__card-header-title-md\\']\")\\n                title_p=title_gp.find_element(\"tag name\", \"span\")\\n                spans=title_p.find_elements(\"tag name\", \"span\")\\n                span1=spans[0].text\\n                span2=spans[1].text\\n                title=span1+\" \"+span2\\n                \\n                #print(title)\\n                infos.append(title)\\n                \\n                link = card_link.get_attribute(\"href\")\\n                #print(link)\\n                infos.append(link)\\n            \\n                type = element.find_element(\"xpath\",\".//*[@class=\\'badge badge-primary\\']\").text\\n                #print(type)\\n                infos.append(type)\\n\\n                provider_agp=element.find_element(\"xpath\", \"//div[@class=\\'pgn__card-header-subtitle-md\\']\")\\n                provider_gp=provider_agp.find_element(\"tag name\", \"span\")\\n                provider_p=provider_gp.find_element(\"tag name\", \"span\")\\n                provider=provider_p.find_element(\"tag name\", \"span\").text\\n                #print(provider) \\n                infos.append(provider)\\n            \\n                description = \"No description\" #element.find_element(\"tag name\", \"p\").text\\n                #print(description)\\n                infos.append(description)\\n                print(infos)\\n            \\n                courses.append(infos)\\n                    \\n            except StaleElementReferenceException:\\n            # Re-find the element if it becomes stale\\n                element = driver.find_element(\"xpath\", \"//div[@class=\\'base-card-wrapper\\']\")\\n                \\n                card_link = element.find_element(\"xpath\", \".//*[@class=\\'base-card-link\\']\")\\n                title_gp=card_link.find_element(\"xpath\", \".//*[@class=\\'pgn__card-header-title-md\\']\")\\n                title_p=title_gp.find_element(\"tag name\", \"span\")\\n                spans=title_p.find_elements(\"tag name\", \"span\")\\n                span1=spans[0].text\\n                span2=spans[1].text\\n                title=span1+\" \"+span2\\n                \\n                #print(title)\\n                infos.append(title)\\n                \\n                link = card_link.get_attribute(\"href\")\\n                #print(link)\\n                infos.append(link)\\n            \\n                type = element.find_element(\"xpath\",\".//*[@class=\\'badge badge-primary\\']\").text\\n                #print(type)\\n                infos.append(type)\\n\\n                provider_agp=element.find_element(\"xpath\", \"//div[@class=\\'pgn__card-header-subtitle-md\\']\")\\n                provider_gp=provider_agp.find_element(\"tag name\", \"span\")\\n                provider_p=provider_gp.find_element(\"tag name\", \"span\")\\n                provider=provider_p.find_element(\"tag name\", \"span\").text\\n                #print(provider) \\n                infos.append(provider)\\n            \\n                description = \"No description\" #element.find_element(\"tag name\", \"p\").text\\n                #print(description)\\n                infos.append(description)\\n                print(infos)\\n            \\n                courses.append(infos)\\n               \\n    except StaleElementReferenceException:\\n        # Re-find the elements if they become stale\\n        elements = driver.find_elements(\"xpath\", \"//div[@class=\\'base-card-wrapper\\']\")\\n        print(\"ecxept 3\")\\n        \\n    return courses'"
            ]
          },
          "execution_count": 5,
          "metadata": {},
          "output_type": "execute_result"
        }
      ],
      "source": [
        "\"\"\"from selenium.common.exceptions import StaleElementReferenceException, NoSuchElementException\n",
        "import time\n",
        "\n",
        "def scrapEdx(subject):\n",
        "\n",
        "    WebDriverWait(driver, 100).until(EC.presence_of_element_located((By.CLASS_NAME, \"form-control search-input pl-3 small default\")))\n",
        "    time.sleep(0.5)\n",
        "\n",
        "    WebDriverWait(driver, 100).until(EC.element_to_be_clickable((By.XPATH, \"//input[@class='form-control search-input pl-3 small default']\"))).send_keys(subject)\n",
        "    #search_bar = driver.find_element(\"xpath\", \"//input[@class='form-control search-input pl-3 small default']\")\n",
        "    #pgn-searchfield-input-32032\n",
        "    search_bar.send_keys(subject)\n",
        "\n",
        "    search_bar.submit()\n",
        "    print(\"search done\")\n",
        "    courses=[]\n",
        "\n",
        "    try:\n",
        "        elements = driver.find_elements(\"xpath\", \"//*[@class='base-card-wrapper']\")\n",
        "        print(len(elements))\n",
        "        #courses=[]\n",
        "        i=1\n",
        "        for element in elements:\n",
        "            infos=[]\n",
        "\n",
        "            if i%5 : WebDriverWait(driver, 10)\n",
        "            i+=1\n",
        "\n",
        "            try:\n",
        "                card_link = element.find_element(\"xpath\", \".//*[@class='base-card-link']\")\n",
        "                title_gp=card_link.find_element(\"xpath\", \".//*[@class='pgn__card-header-title-md']\")\n",
        "                title_p=title_gp.find_element(\"tag name\", \"span\")\n",
        "                spans=title_p.find_elements(\"tag name\", \"span\")\n",
        "                span1=spans[0].text\n",
        "                span2=spans[1].text\n",
        "                title=span1+\" \"+span2\n",
        "\n",
        "                #print(title)\n",
        "                infos.append(title)\n",
        "\n",
        "                link = card_link.get_attribute(\"href\")\n",
        "                #print(link)\n",
        "                infos.append(link)\n",
        "\n",
        "                type = element.find_element(\"xpath\",\".//*[@class='badge badge-primary']\").text\n",
        "                #print(type)\n",
        "                infos.append(type)\n",
        "\n",
        "                provider_agp=element.find_element(\"xpath\", \"//div[@class='pgn__card-header-subtitle-md']\")\n",
        "                provider_gp=provider_agp.find_element(\"tag name\", \"span\")\n",
        "                provider_p=provider_gp.find_element(\"tag name\", \"span\")\n",
        "                provider=provider_p.find_element(\"tag name\", \"span\").text\n",
        "                #print(provider)\n",
        "                infos.append(provider)\n",
        "\n",
        "                description = \"No description\" #element.find_element(\"tag name\", \"p\").text\n",
        "                #print(description)\n",
        "                infos.append(description)\n",
        "                print(infos)\n",
        "\n",
        "                courses.append(infos)\n",
        "\n",
        "            except StaleElementReferenceException:\n",
        "            # Re-find the element if it becomes stale\n",
        "                element = driver.find_element(\"xpath\", \"//div[@class='base-card-wrapper']\")\n",
        "\n",
        "                card_link = element.find_element(\"xpath\", \".//*[@class='base-card-link']\")\n",
        "                title_gp=card_link.find_element(\"xpath\", \".//*[@class='pgn__card-header-title-md']\")\n",
        "                title_p=title_gp.find_element(\"tag name\", \"span\")\n",
        "                spans=title_p.find_elements(\"tag name\", \"span\")\n",
        "                span1=spans[0].text\n",
        "                span2=spans[1].text\n",
        "                title=span1+\" \"+span2\n",
        "\n",
        "                #print(title)\n",
        "                infos.append(title)\n",
        "\n",
        "                link = card_link.get_attribute(\"href\")\n",
        "                #print(link)\n",
        "                infos.append(link)\n",
        "\n",
        "                type = element.find_element(\"xpath\",\".//*[@class='badge badge-primary']\").text\n",
        "                #print(type)\n",
        "                infos.append(type)\n",
        "\n",
        "                provider_agp=element.find_element(\"xpath\", \"//div[@class='pgn__card-header-subtitle-md']\")\n",
        "                provider_gp=provider_agp.find_element(\"tag name\", \"span\")\n",
        "                provider_p=provider_gp.find_element(\"tag name\", \"span\")\n",
        "                provider=provider_p.find_element(\"tag name\", \"span\").text\n",
        "                #print(provider)\n",
        "                infos.append(provider)\n",
        "\n",
        "                description = \"No description\" #element.find_element(\"tag name\", \"p\").text\n",
        "                #print(description)\n",
        "                infos.append(description)\n",
        "                print(infos)\n",
        "\n",
        "                courses.append(infos)\n",
        "\n",
        "    except StaleElementReferenceException:\n",
        "        # Re-find the elements if they become stale\n",
        "        elements = driver.find_elements(\"xpath\", \"//div[@class='base-card-wrapper']\")\n",
        "        print(\"ecxept 3\")\n",
        "\n",
        "    return courses\"\"\""
      ]
    },
    {
      "cell_type": "code",
      "execution_count": null,
      "id": "5f71a9cf-1a2c-42d4-b328-0b8c6a4bc6b1",
      "metadata": {
        "id": "5f71a9cf-1a2c-42d4-b328-0b8c6a4bc6b1"
      },
      "outputs": [],
      "source": [
        "#show-all-link text-primary-500 btn btn-link muted-link inline-link d-inline-block pl-0 pt-0 pr-0 pb-0 px-xl-0\n",
        "from selenium.common.exceptions import StaleElementReferenceException, NoSuchElementException\n",
        "from selenium.webdriver.common.keys import Keys\n",
        "import time\n",
        "def scrapeEdx(subject):\n",
        "\n",
        "    WebDriverWait(driver, 2)\n",
        "    search_bar=driver.find_element(\"xpath\", \"//input[@class='form-control search-input']\")\n",
        "    search_bar.send_keys(subject)\n",
        "    search_bar.submit()\n",
        "    WebDriverWait(driver, 10).until(\n",
        "            EC.url_contains(\"python\")\n",
        "        )#time.sleep(0.5)\n",
        "\n",
        "    #WebDriverWait(driver, 20).until(ExpectedConditions.elementToBeClickable(By.CLASS_NAME(\"form-control search-input pl-3 small default\"))).click();\n",
        "    #search_bar = driver.find_element(\"xpath\", \"//input[@class='form-control search-input pl-3 small default']\")\n",
        "    #pgn-searchfield-input-32032\n",
        "\n",
        "    #search_bar.send_keys(subject)\n",
        "    #search_bar.submit()\n",
        "\n",
        "    #WebDriverWait(driver, 100).until(EC.presence_of_element_located((By.XPATH, \"//input[@class='form-control search-input pl-3 small default']\")))\n",
        "    #search_bar = driver.find_element(\"xpath\", \"//input[@class='form-control search-input pl-3 small default']\")\n",
        "    #search_bar.send_keys(subject)\n",
        "    #search_bar.submit()\n",
        "\n",
        "    #search_bar=driver.find_element(\"xpath\" ,\"//*[@class='form-control search-input pl-3 small default']\")\n",
        "    #search_bar.send_keys(subject)\n",
        "    #search_bar.send_keys(Keys.Enter)\n",
        "\n",
        "    courses=[]\n",
        "\n",
        "    try:\n",
        "        WebDriverWait(driver, 100).until(EC.presence_of_element_located((By.CLASS_NAME, \"base-card-wrapper\")))\n",
        "        WebDriverWait(driver, 10)#time.sleep(0.5)\n",
        "\n",
        "        elements = driver.find_elements(\"xpath\", \"//*[@class='base-card-wrapper']\")\n",
        "        print(len(elements))\n",
        "        #courses=[]\n",
        "\n",
        "        for element in elements:\n",
        "            WebDriverWait(driver, 5)\n",
        "            infos=[]\n",
        "            try:\n",
        "                card_link = element.find_element(\"xpath\", \".//*[@class='base-card-link']\")\n",
        "                driver.execute_script(\"arguments[0].scrollIntoView(true);\", card_link)\n",
        "\n",
        "                WebDriverWait(driver, 100).until(EC.presence_of_element_located((By.CLASS_NAME, \"pgn__card-header-title-md\")))\n",
        "\n",
        "                title_gp=card_link.find_element(\"xpath\", \".//*[@class='pgn__card-header-title-md']\")\n",
        "                title_p=title_gp.find_element(\"tag name\", \"span\")\n",
        "                spans=title_p.find_elements(\"tag name\", \"span\")\n",
        "                span1=spans[0].text\n",
        "                span2=spans[1].text\n",
        "                title=span1+\" \"+span2\n",
        "\n",
        "                #print(title)\n",
        "                infos.append(title)\n",
        "\n",
        "                link = card_link.get_attribute(\"href\")\n",
        "                #print(link)\n",
        "                infos.append(link)\n",
        "\n",
        "                type = element.find_element(\"xpath\",\".//*[@class='badge badge-primary']\").text\n",
        "                #print(type)\n",
        "                infos.append(type)\n",
        "\n",
        "                provider_agp=element.find_element(\"xpath\", \"//div[@class='pgn__card-header-subtitle-md']\")\n",
        "                provider_gp=provider_agp.find_element(\"tag name\", \"span\")\n",
        "                provider_p=provider_gp.find_element(\"tag name\", \"span\")\n",
        "                provider=provider_p.find_element(\"tag name\", \"span\").text\n",
        "                #print(provider)\n",
        "                infos.append(provider)\n",
        "\n",
        "                description = \"No description\" #element.find_element(\"tag name\", \"p\").text\n",
        "                #print(description)\n",
        "                infos.append(description)\n",
        "                print(infos)\n",
        "\n",
        "                courses.append(infos)\n",
        "\n",
        "            except StaleElementReferenceException:\n",
        "            # Re-find the element if it becomes stale\n",
        "                print(\"except\")\n",
        "                element = driver.find_element(\"xpath\", \"//div[@class='base-card-wrapper']\")\n",
        "\n",
        "                card_link = element.find_element(\"xpath\", \".//*[@class='base-card-link']\")\n",
        "                title_gp=card_link.find_element(\"xpath\", \".//*[@class='pgn__card-header-title-md']\")\n",
        "                title_p=title_gp.find_element(\"tag name\", \"span\")\n",
        "                spans=title_p.find_elements(\"tag name\", \"span\")\n",
        "                span1=spans[0].text\n",
        "                span2=spans[1].text\n",
        "                title=span1+\" \"+span2\n",
        "\n",
        "                #print(title)\n",
        "                infos.append(title)\n",
        "\n",
        "                link = card_link.get_attribute(\"href\")\n",
        "                #print(link)\n",
        "                infos.append(link)\n",
        "\n",
        "                type = element.find_element(\"xpath\",\".//*[@class='badge badge-primary']\").text\n",
        "                #print(type)\n",
        "                infos.append(type)\n",
        "\n",
        "                provider_agp=element.find_element(\"xpath\", \"//div[@class='pgn__card-header-subtitle-md']\")\n",
        "                provider_gp=provider_agp.find_element(\"tag name\", \"span\")\n",
        "                provider_p=provider_gp.find_element(\"tag name\", \"span\")\n",
        "                provider=provider_p.find_element(\"tag name\", \"span\").text\n",
        "                #print(provider)\n",
        "                infos.append(provider)\n",
        "\n",
        "                description = \"No description\" #element.find_element(\"tag name\", \"p\").text\n",
        "                #print(description)\n",
        "                infos.append(description)\n",
        "                print(infos)\n",
        "\n",
        "                courses.append(infos)\n",
        "\n",
        "    except StaleElementReferenceException:\n",
        "        # Re-find the elements if they become stale\n",
        "        elements = driver.find_elements(\"xpath\", \"//div[@class='base-card-wrapper']\")\n",
        "        print(\"ecxept 3\")\n",
        "\n",
        "    return courses"
      ]
    },
    {
      "cell_type": "code",
      "execution_count": null,
      "id": "9bfcb18e-fbf3-4d1d-a438-edfaa313ad86",
      "metadata": {
        "id": "9bfcb18e-fbf3-4d1d-a438-edfaa313ad86"
      },
      "outputs": [],
      "source": [
        "url = urls[1]\n",
        "\n",
        "driver.get(url)\n",
        "\n",
        "#WebDriverWait(driver, 10).until(EC.element_to_be_clickable((By.XPATH,'//button[@id=\"onetrust-accept-btn-handler\"]'))).click()"
      ]
    },
    {
      "cell_type": "code",
      "execution_count": null,
      "id": "92a121d6-96a7-4d9a-9c9b-71711169e3d6",
      "metadata": {
        "id": "92a121d6-96a7-4d9a-9c9b-71711169e3d6",
        "outputId": "8f2fa4d1-c78b-4227-9b34-b0e610c326aa"
      },
      "outputs": [
        {
          "name": "stdin",
          "output_type": "stream",
          "text": [
            "Enter what you want to search:  python\n"
          ]
        }
      ],
      "source": [
        "subject = input(\"Enter what you want to search: \")"
      ]
    },
    {
      "cell_type": "code",
      "execution_count": null,
      "id": "5a54fd00-8c5b-47a5-bd5a-b81f55398a27",
      "metadata": {
        "scrolled": true,
        "id": "5a54fd00-8c5b-47a5-bd5a-b81f55398a27",
        "outputId": "51eb5684-a113-479c-89c8-ad831b435800"
      },
      "outputs": [
        {
          "name": "stdout",
          "output_type": "stream",
          "text": [
            "12\n",
            "[\"CS50's Introduction to\\nProgramming with Python CS50's Introduction to\", 'https://www.edx.org/learn/python/harvard-university-cs50-s-introduction-to-programming-with-python?index=product&queryID=2160d1d4d9429173e7982d1ae1528e46&position=1&results_level=first-level-results&term=python&objectID=course-2cc794d0-316d-42f7-bbfd-25c34e4cd5df&campaign=CS50%27s+Introduction+to+Programming+with+Python&source=edX&product_category=course&placement_url=https%3A%2F%2Fwww.edx.org%2Fsearch', 'Course', 'Harvard University', 'No description']\n",
            "['Python Basics for Data\\nScience Python Basics for Data', 'https://www.edx.org/learn/python/ibm-python-basics-for-data-science?index=product&queryID=2160d1d4d9429173e7982d1ae1528e46&position=2&results_level=first-level-results&term=python&objectID=course-381a0046-5d78-4790-8776-74620d59f48e&campaign=Python+Basics+for+Data+Science&source=edX&product_category=course&placement_url=https%3A%2F%2Fwww.edx.org%2Fsearch', 'Course', 'Harvard University', 'No description']\n",
            "['Programming for\\nEverybody (Getting\\nStarted with Python) Programming for', 'https://www.edx.org/learn/python/the-university-of-michigan-programming-for-everybody-getting-started-with-python?index=product&queryID=2160d1d4d9429173e7982d1ae1528e46&position=3&results_level=first-level-results&term=python&objectID=course-911175d0-6724-4276-a058-c7b052773dd1&campaign=Programming+for+Everybody+%28Getting+Started+with+Python%29&source=edX&product_category=course&placement_url=https%3A%2F%2Fwww.edx.org%2Fsearch', 'Course', 'Harvard University', 'No description']\n",
            "['Machine Learning:\\nPractical Applications Machine Learning:', 'https://www.edx.org/executive-education/the-london-school-of-economics-and-political-science-machine-learning-practical-applications?index=product&queryID=0d258a3ce0ee3c84782a73345d6215e0&position=1&results_level=first-level-results&term=python&objectID=course-93b36f93-9243-448c-887c-b6a5fc487df6&campaign=Machine+Learning%3A+Practical+Applications&source=2u&product_category=executive-education&placement_url=https%3A%2F%2Fwww.edx.org%2Fsearch', 'Executive Education', 'Harvard University', 'No description']\n",
            "['Data Science in Real Estate Data Science in Real Estate', 'https://www.edx.org/executive-education/massachusetts-institute-of-technology-data-science-in-real-estate?index=product&queryID=0d258a3ce0ee3c84782a73345d6215e0&position=2&results_level=first-level-results&term=python&objectID=course-d14aab4d-81a2-4fc7-8b27-f799ec3fcc7e&campaign=Data+Science+in+Real+Estate&source=2u&product_category=executive-education&placement_url=https%3A%2F%2Fwww.edx.org%2Fsearch', 'Executive Education', 'Harvard University', 'No description']\n",
            "['Marketing Analytics for\\nConsumer Insights Marketing Analytics for', 'https://www.edx.org/executive-education/the-london-school-of-economics-and-political-science-marketing-analytics-for-consumer-insights?index=product&queryID=0d258a3ce0ee3c84782a73345d6215e0&position=3&results_level=first-level-results&term=python&objectID=course-030ed89b-3b2a-41e3-a5f4-2344d7417735&campaign=Marketing+Analytics+for+Consumer+Insights&source=2u&product_category=executive-education&placement_url=https%3A%2F%2Fwww.edx.org%2Fsearch', 'Executive Education', 'Harvard University', 'No description']\n",
            "['Computer Science for\\nPython Programming Computer Science for', 'https://www.edx.org/certificates/professional-certificate/harvardx-computer-science-for-python-programming?index=product&queryID=a0aecb4cbde0286437ec2e95da21fe34&position=1&results_level=first-level-results&term=python&objectID=program-e250b08e-be2a-4b48-a43c-c9ae47f6cf14&campaign=Computer+Science+for+Python+Programming&source=edX&product_category=professional-certificate&placement_url=https%3A%2F%2Fwww.edx.org%2Fsearch', 'Professional Certificate', 'Harvard University', 'No description']\n",
            "['Introduction to Python\\nProgramming Introduction to Python', 'https://www.edx.org/certificates/professional-certificate/the-georgia-institute-of-technology-introduction-to-python-programming?index=product&queryID=a0aecb4cbde0286437ec2e95da21fe34&position=2&results_level=first-level-results&term=python&objectID=program-a11c408f-0986-4393-8268-8bc16500cdf3&campaign=Introduction+to+Python+Programming&source=edX&product_category=professional-certificate&placement_url=https%3A%2F%2Fwww.edx.org%2Fsearch', 'Professional Certificate', 'Harvard University', 'No description']\n",
            "['Learning Python for Data\\nScience Learning Python for Data', 'https://www.edx.org/certificates/professional-certificate/harvardx-learning-python-for-data-science?index=product&queryID=a0aecb4cbde0286437ec2e95da21fe34&position=3&results_level=first-level-results&term=python&objectID=program-673ea595-1439-4a34-ad71-cc5c995c6fc6&campaign=Learning+Python+for+Data+Science&source=edX&product_category=professional-certificate&placement_url=https%3A%2F%2Fwww.edx.org%2Fsearch', 'Professional Certificate', 'Harvard University', 'No description']\n",
            "['Master of Science in Data\\nScience Master of Science in Data', 'https://www.edx.org/masters/online-masters-in-data-science/denver-master-of-science-in-data-science?index=product&queryID=2e21c79c6a435bd85e88729d7be1fa11&position=1&results_level=first-level-results&term=python&objectID=degree-e61833c1-3e13-4d98-8acc-450553d33b71&campaign=Master+of+Science+in+Data+Science&source=edx&product_category=masters&category=degrees&medium=referral&lsrc=edx&version=edx&placement_url=https%3A%2F%2Fwww.edx.org%2Fsearch', \"Master's Degree\", 'Harvard University', 'No description']\n",
            "['Master of Science in\\nBusiness Analytics Master of Science in', 'https://www.edx.org/masters/online-masters-in-business-analytics/pepperdine-master-of-science-in-business-analytics?index=product&queryID=2e21c79c6a435bd85e88729d7be1fa11&position=2&results_level=first-level-results&term=python&objectID=degree-57518a9d-c425-472d-ae54-c66ee7701460&campaign=Master+of+Science+in+Business+Analytics&source=edx&product_category=masters&category=degrees&medium=referral&lsrc=edx&version=edx&placement_url=https%3A%2F%2Fwww.edx.org%2Fsearch', \"Master's Degree\", 'Harvard University', 'No description']\n",
            "['Master of Science in\\nApplied Data Science Master of Science in', 'https://www.edx.org/masters/online-masters-in-data-science/syracuse-master-of-science-in-applied-data-science?index=product&queryID=2e21c79c6a435bd85e88729d7be1fa11&position=3&results_level=first-level-results&term=python&objectID=degree-5cf16e5f-8a08-40a6-bc9e-bf82684c5522&campaign=Master+of+Science+in+Applied+Data+Science&source=edx&product_category=masters&category=degrees&medium=referral&lsrc=edx&version=edx&placement_url=https%3A%2F%2Fwww.edx.org%2Fsearch', \"Master's Degree\", 'Harvard University', 'No description']\n"
          ]
        }
      ],
      "source": [
        "courses=scrapeEdx(subject)\n"
      ]
    },
    {
      "cell_type": "code",
      "execution_count": null,
      "id": "bce6f597-0765-4b35-9e08-8d514e14e5db",
      "metadata": {
        "id": "bce6f597-0765-4b35-9e08-8d514e14e5db"
      },
      "outputs": [],
      "source": [
        "import pickle\n",
        "with open(r\"C:\\Users\\meama\\Documents\\A5\\DP_Webscrapping_&_Data_Processing\\edxPython1.pkl\", \"wb\") as fp:   #Pickling\n",
        "    pickle.dump(courses, fp)"
      ]
    },
    {
      "cell_type": "code",
      "execution_count": null,
      "id": "83f80cfc-ebc7-4fba-9a9c-824fb8755e13",
      "metadata": {
        "id": "83f80cfc-ebc7-4fba-9a9c-824fb8755e13"
      },
      "outputs": [],
      "source": [
        "\"\"\"from selenium.webdriver.support.ui import WebDriverWait\n",
        "from selenium.webdriver.common.by import By\n",
        "from selenium.webdriver.support import expected_conditions as EC\n",
        "\n",
        "def browsePages(subject):\n",
        "    #search_bar = driver.find_element(\"xpath\", \"//input[@class='form-control search-input pl-3 small default']\")\n",
        "    #search_bar.send_keys(subject)\n",
        "    #search_bar.submit()\n",
        "\n",
        "    #WebDriverWait(driver, 100).until(EC.element_to_be_clickable((By.XPATH, \"//input[@class='form-control search-input pl-3 small default']\"))).send_keys(subject)\n",
        "    #driver.find_element(By.XPATH, \"//input[@class='form-control search-input pl-3 small default']\").click()\n",
        "    #driver.find_element(By.XPATH, \"//input[@class='form-control search-input pl-3 small default']\").send_keys(subject)\n",
        "\n",
        "    WebDriverWait(driver, 100).until(EC.presence_of_element_located((By.CLASS_NAME, \"base-card-wrapper\")))\n",
        "    search_bar=driver.find_element(\"xpath\", \"//input[@class='form-control search-input']\")\n",
        "    search_bar.send_keys(subject)\n",
        "    search_bar.submit()\n",
        "\n",
        "    WebDriverWait(driver, 100).until(EC.presence_of_element_located((By.CLASS_NAME, \"d-flex small\")))\n",
        "    next_page_links=driver.find_elements(\"xpath\", \"//*[@class='d-flex small']\")\n",
        "    print(len(next_page_links))\n",
        "    return\"\"\"\n",
        ""
      ]
    },
    {
      "cell_type": "code",
      "execution_count": null,
      "id": "e796f650-c65f-4541-9599-bfa5551c6c2b",
      "metadata": {
        "id": "e796f650-c65f-4541-9599-bfa5551c6c2b"
      },
      "outputs": [],
      "source": [
        "#browsePages(subject)"
      ]
    }
  ],
  "metadata": {
    "kernelspec": {
      "display_name": "Python 3 (ipykernel)",
      "language": "python",
      "name": "python3"
    },
    "language_info": {
      "codemirror_mode": {
        "name": "ipython",
        "version": 3
      },
      "file_extension": ".py",
      "mimetype": "text/x-python",
      "name": "python",
      "nbconvert_exporter": "python",
      "pygments_lexer": "ipython3",
      "version": "3.9.18"
    },
    "colab": {
      "provenance": [],
      "include_colab_link": true
    }
  },
  "nbformat": 4,
  "nbformat_minor": 5
}