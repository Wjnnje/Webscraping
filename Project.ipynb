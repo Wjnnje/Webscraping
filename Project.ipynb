{
  "cells": [
    {
      "cell_type": "markdown",
      "id": "bd8a6672",
      "metadata": {
        "id": "bd8a6672"
      },
      "source": [
        "# Webscrapping Project"
      ]
    },
    {
      "cell_type": "markdown",
      "id": "12e887ef",
      "metadata": {
        "id": "12e887ef"
      },
      "source": [
        "## Imports"
      ]
    },
    {
      "cell_type": "code",
      "execution_count": null,
      "id": "76ea3fe1",
      "metadata": {
        "id": "76ea3fe1"
      },
      "outputs": [],
      "source": [
        "import pandas as pd\n",
        "import urllib\n",
        "\n",
        "import bs4\n",
        "from bs4 import BeautifulSoup\n",
        "\n",
        "from selenium import webdriver\n",
        "from selenium.webdriver.common.by import By\n",
        "from selenium.webdriver.support.ui import WebDriverWait\n",
        "from selenium.webdriver.support import expected_conditions as EC\n",
        "import pandas as pd\n",
        "from webdriver_manager.firefox import GeckoDriverManager\n",
        "\n",
        "from selenium.webdriver import Keys\n",
        "from selenium.webdriver.firefox.service import Service\n",
        "from selenium.webdriver.firefox.options import Options\n",
        "from selenium.webdriver.firefox.firefox_binary import FirefoxBinary"
      ]
    },
    {
      "cell_type": "markdown",
      "id": "3fd36c32",
      "metadata": {
        "id": "3fd36c32"
      },
      "source": [
        "## Online Courses"
      ]
    },
    {
      "cell_type": "code",
      "execution_count": null,
      "id": "27d8fe6c",
      "metadata": {
        "id": "27d8fe6c",
        "outputId": "09859f40-d0bc-4827-8a1d-0d34613fe90a"
      },
      "outputs": [
        {
          "data": {
            "text/plain": [
              "'url = urls[0]\\n\\ndriver.get(url)\\n\\nWebDriverWait(driver, 10).until(EC.element_to_be_clickable((By.XPATH,\\'//button[@id=\"onetrust-accept-btn-handler\"]\\'))).click()'"
            ]
          },
          "execution_count": 2,
          "metadata": {},
          "output_type": "execute_result"
        }
      ],
      "source": [
        "options = Options()\n",
        "\n",
        "options.binary_location = r\"C:\\Program Files\\Mozilla Firefox\\firefox.exe\"\n",
        "\n",
        "#options.binary_location = r\"C:\\Program Files\\WindowsApps\\Mozilla.Firefox_120.0.0.0_x64__n80bbvh6b1yt2\\VFS\\ProgramFiles\\Firefox Package Root\\firefox.exe\n",
        "#options.set_preference(\"browser.download.folderList\",2)\n",
        "#options.set_preference(\"browser.download.manager.showWhenStarting\", False)\n",
        "\n",
        "service = Service(executable_path=r\"C:\\\\Users\\\\meama\\\\Downloads\\\\geckodriver-v0.33.0-win64\\\\geckodriver.exe\")\n",
        "\n",
        "driver = webdriver.Firefox(service=service, options=options)#options=options)\n",
        "\n",
        "urls=['https://www.futurelearn.com/',\n",
        "     'https://www.edx.org/',\n",
        "     'https://www.pluralsight.com/',\n",
        "     'https://www.my-mooc.com/en/']\n",
        "\n",
        "\"\"\"url = urls[0]\n",
        "\n",
        "driver.get(url)\n",
        "\n",
        "WebDriverWait(driver, 10).until(EC.element_to_be_clickable((By.XPATH,'//button[@id=\"onetrust-accept-btn-handler\"]'))).click()\"\"\"\n",
        "#onetrust-consent-sdk\n",
        "#wait = WebDriverWait(driver, 10)"
      ]
    },
    {
      "cell_type": "markdown",
      "id": "90ec02f5-80d7-4c0e-bb10-c573eeceba8d",
      "metadata": {
        "id": "90ec02f5-80d7-4c0e-bb10-c573eeceba8d"
      },
      "source": [
        "### FUTURELEARN"
      ]
    },
    {
      "cell_type": "code",
      "execution_count": null,
      "id": "b5d35480",
      "metadata": {
        "id": "b5d35480"
      },
      "outputs": [],
      "source": [
        "from selenium.common.exceptions import StaleElementReferenceException, NoSuchElementException\n",
        "#WebDriverWait(driver, 10).until(EC.element_to_be_clickable((By.XPATH,'//button[@id=\"onetrust-accept-btn-handler\"]'))).click()\n",
        "def scrapFuturelearn(subject):\n",
        "    #search_bar = driver.find_element(\"name\", \"q\")\n",
        "\n",
        "    #wait = WebDriverWait(driver, 10)\n",
        "    #search_bar = wait.until(EC.visibility_of_element_located((By.NAME, \"q\")))\n",
        "\n",
        "    #element = driver.find_element(\"name\", \"q\")\n",
        "    #driver.execute_script(\"arguments[0].scrollIntoView(true);\", search_bar)#, element)\n",
        "\n",
        "    search_bar = driver.find_element(\"id\", \"main-nav-search-bar-input\")\n",
        "    search_bar.send_keys(subject)\n",
        "\n",
        "    search_bar.submit()\n",
        "\n",
        "    elements = driver.find_elements(\"xpath\", \"//li[@class='m-link-list__item']\")\n",
        "    print(len(elements))\n",
        "    courses=[]\n",
        "\n",
        "    for element in elements:\n",
        "        infos=[]\n",
        "\n",
        "        try:\n",
        "\n",
        "            title = element.find_element(\"xpath\", \".//*[@class='js-ahoy-track']\")\n",
        "            #print(title.text)\n",
        "            infos.append(title.text)\n",
        "\n",
        "\n",
        "            link = title.get_attribute(\"href\")\n",
        "            #print(link)\n",
        "            infos.append(link)\n",
        "\n",
        "            type = element.find_element(\"xpath\",\".//*[@class='u-regular u-no-margin-top']\").text\n",
        "            #print(type)\n",
        "            infos.append(type)\n",
        "\n",
        "            provider = element.find_element(\"tag name\",\"a\").text\n",
        "            #print(provider)\n",
        "            infos.append(provider)\n",
        "\n",
        "            description = element.find_element(\"tag name\", \"p\").text\n",
        "            #print(description)\n",
        "            infos.append(description)\n",
        "\n",
        "            courses.append(infos)\n",
        "\n",
        "        except StaleElementReferenceException:\n",
        "            element = driver.find_element(\"xpath\", \".//*[@class='m-link-list__item']\")\n",
        "            title = element.find_element(\"xpath\", \".//*[@class='js-ahoy-track']\")\n",
        "            #print(title.text)\n",
        "            infos.append(title.text)\n",
        "\n",
        "\n",
        "            link = title.get_attribute(\"href\")\n",
        "            #print(link)\n",
        "            infos.append(link)\n",
        "\n",
        "            type = element.find_element(\"xpath\",\".//*[@class='u-regular u-no-margin-top']\").text\n",
        "            #print(type)\n",
        "            infos.append(type)\n",
        "\n",
        "            provider = element.find_element(\"tag name\",\"a\").text\n",
        "            #print(provider)\n",
        "            infos.append(provider)\n",
        "\n",
        "            description = element.find_element(\"tag name\", \"p\").text\n",
        "            #print(description)\n",
        "            infos.append(description)\n",
        "\n",
        "            courses.append(infos)\n",
        "        print(len(courses))\n",
        "    return courses"
      ]
    },
    {
      "cell_type": "code",
      "execution_count": null,
      "id": "6cf59518-5751-4b87-8eb6-79928368d8a0",
      "metadata": {
        "id": "6cf59518-5751-4b87-8eb6-79928368d8a0"
      },
      "outputs": [],
      "source": [
        "from selenium.common.exceptions import StaleElementReferenceException, NoSuchElementException\n",
        "\n",
        "def scrapeFuturelearn(subject):\n",
        "\n",
        "    search_bar = driver.find_element(\"id\", \"main-nav-search-bar-input\")\n",
        "    search_bar.send_keys(subject)\n",
        "\n",
        "    search_bar.submit()\n",
        "\n",
        "    courses=[]\n",
        "\n",
        "    try:\n",
        "        elements = driver.find_elements(\"xpath\", \"//ul[@class='m-link-list m-link-list--search-results']/li[@class='m-link-list__item']\")\n",
        "        print(len(elements))\n",
        "        #courses=[]\n",
        "\n",
        "        for element in elements:\n",
        "            infos=[]\n",
        "            try:\n",
        "                title = element.find_element(\"xpath\", \".//*[@class='js-ahoy-track']\")\n",
        "                #print(title.text)\n",
        "                infos.append(title.text)\n",
        "\n",
        "                link = title.get_attribute(\"href\")\n",
        "                #print(link)\n",
        "                infos.append(link)\n",
        "\n",
        "                type = element.find_element(\"xpath\",\".//*[@class='u-regular u-no-margin-top']\").text\n",
        "                #print(type)\n",
        "                infos.append(type)\n",
        "\n",
        "                provider = element.find_element(\"tag name\",\"a\").text\n",
        "                #print(provider)\n",
        "                infos.append(provider)\n",
        "\n",
        "                description = element.find_element(\"tag name\", \"p\").text\n",
        "                #print(description)\n",
        "                infos.append(description)\n",
        "\n",
        "                courses.append(infos)\n",
        "\n",
        "            except StaleElementReferenceException:\n",
        "            # Re-find the element if it becomes stale\n",
        "                element = driver.find_element(\"xpath\", \"//ul[@class='m-link-list m-link-list--search-results']/li[@class='m-link-list__item']\")\n",
        "                title = element.find_element(\"xpath\", \".//*[@class='js-ahoy-track']\")\n",
        "                #print(title.text)\n",
        "                infos.append(title.text)\n",
        "\n",
        "\n",
        "                link = title.get_attribute(\"href\")\n",
        "                #print(link)\n",
        "                infos.append(link)\n",
        "\n",
        "                type = element.find_element(\"xpath\",\".//*[@class='u-regular u-no-margin-top']\").text\n",
        "                #print(type)\n",
        "                infos.append(type)\n",
        "\n",
        "                provider = element.find_element(\"tag name\",\"a\").text\n",
        "                #print(provider)\n",
        "                infos.append(provider)\n",
        "\n",
        "                description = element.find_element(\"tag name\", \"p\").text\n",
        "                #print(description)\n",
        "                infos.append(description)\n",
        "\n",
        "                courses.append(infos)\n",
        "\n",
        "    except StaleElementReferenceException:\n",
        "        # Re-find the elements if they become stale\n",
        "        elements = driver.find_elements(\"xpath\", \"//li[@class='m-link-list__item']\")\n",
        "        print(\"ecxept 3\")\n",
        "\n",
        "    return courses"
      ]
    },
    {
      "cell_type": "code",
      "execution_count": null,
      "id": "9997339c",
      "metadata": {
        "id": "9997339c",
        "outputId": "9974f6f3-5b77-4c62-8ba6-d9464f3226cb"
      },
      "outputs": [
        {
          "name": "stdin",
          "output_type": "stream",
          "text": [
            "Enter what you want to search:  python\n"
          ]
        }
      ],
      "source": [
        "subject = input(\"Enter what you want to search: \")\n",
        "findings=[]"
      ]
    },
    {
      "cell_type": "code",
      "execution_count": null,
      "id": "f2094810-7615-48cf-aa4c-87b8b72ce761",
      "metadata": {
        "id": "f2094810-7615-48cf-aa4c-87b8b72ce761"
      },
      "outputs": [],
      "source": [
        "url = urls[0]\n",
        "\n",
        "driver.get(url)\n",
        "\n",
        "WebDriverWait(driver, 10).until(EC.element_to_be_clickable((By.XPATH,'//button[@id=\"onetrust-accept-btn-handler\"]'))).click()\n",
        "#scrapFuturelearn(subject)\n",
        "#driver.quit()"
      ]
    },
    {
      "cell_type": "markdown",
      "id": "5e93e641-e71d-41e9-b955-0c46104023d9",
      "metadata": {
        "id": "5e93e641-e71d-41e9-b955-0c46104023d9"
      },
      "source": [
        "### EDX"
      ]
    },
    {
      "cell_type": "code",
      "execution_count": null,
      "id": "81fbb78a-03ce-446b-918d-8f5eacf8a265",
      "metadata": {
        "id": "81fbb78a-03ce-446b-918d-8f5eacf8a265"
      },
      "outputs": [],
      "source": [
        "from selenium.common.exceptions import StaleElementReferenceException, NoSuchElementException\n",
        "\n",
        "def scrapeEdx(subject):\n",
        "\n",
        "    #search_bar = driver.find_element(\"id\", \"pgn-searchfield-input-32023\")\n",
        "    search_bar = driver.find_element(\"id\", \"pgn-searchfield-input-32032\")\n",
        "    #pgn-searchfield-input-32032\n",
        "    search_bar.send_keys(subject)\n",
        "\n",
        "    search_bar.submit()\n",
        "\n",
        "    courses=[]\n",
        "\n",
        "    try:\n",
        "        elements = driver.find_elements(\"xpath\", \"//*[@class='base-card-wrapper']\")\n",
        "        print(len(elements))\n",
        "        #courses=[]\n",
        "\n",
        "        for element in elements:\n",
        "            infos=[]\n",
        "            try:\n",
        "                card_link = element.find_element(\"xpath\", \".//*[@class='base-card-link']\")\n",
        "                title_gp=card_link.find_element(\"xpath\", \".//*[@class='pgn__card-header-title-md']\")\n",
        "                title_p=title_gp.find_element(\"tag name\", \"span\")\n",
        "                spans=title_p.find_elements(\"tag name\", \"span\")\n",
        "                span1=spans[0].text\n",
        "                span2=spans[1].text\n",
        "                title=span1+\" \"+span2\n",
        "\n",
        "                #print(title)\n",
        "                infos.append(title)\n",
        "\n",
        "                link = card_link.get_attribute(\"href\")\n",
        "                #print(link)\n",
        "                infos.append(link)\n",
        "\n",
        "                type = element.find_element(\"xpath\",\".//*[@class='badge badge-primary']\").text\n",
        "                #print(type)\n",
        "                infos.append(type)\n",
        "\n",
        "                provider_agp=element.find_element(\"xpath\", \"//div[@class='pgn__card-header-subtitle-md']\")\n",
        "                provider_gp=provider_agp.find_element(\"tag name\", \"span\")\n",
        "                provider_p=provider_gp.find_element(\"tag name\", \"span\")\n",
        "                provider=provider_p.find_element(\"tag name\", \"span\").text\n",
        "                #print(provider)\n",
        "                infos.append(provider)\n",
        "\n",
        "                description = \"No description\" #element.find_element(\"tag name\", \"p\").text\n",
        "                #print(description)\n",
        "                infos.append(description)\n",
        "                print(infos)\n",
        "\n",
        "                courses.append(infos)\n",
        "\n",
        "            except StaleElementReferenceException:\n",
        "            # Re-find the element if it becomes stale\n",
        "                element = driver.find_element(\"xpath\", \"//div[@class='base-card-wrapper']\")\n",
        "\n",
        "                card_link = element.find_element(\"xpath\", \".//*[@class='base-card-link']\")\n",
        "                title_gp=card_link.find_element(\"xpath\", \".//*[@class='pgn__card-header-title-md']\")\n",
        "                title_p=title_gp.find_element(\"tag name\", \"span\")\n",
        "                spans=title_p.find_elements(\"tag name\", \"span\")\n",
        "                span1=spans[0].text\n",
        "                span2=spans[1].text\n",
        "                title=span1+\" \"+span2\n",
        "\n",
        "                #print(title)\n",
        "                infos.append(title)\n",
        "\n",
        "                link = card_link.get_attribute(\"href\")\n",
        "                #print(link)\n",
        "                infos.append(link)\n",
        "\n",
        "                type = element.find_element(\"xpath\",\".//*[@class='badge badge-primary']\").text\n",
        "                #print(type)\n",
        "                infos.append(type)\n",
        "\n",
        "                provider_agp=element.find_element(\"xpath\", \"//div[@class='pgn__card-header-subtitle-md']\")\n",
        "                provider_gp=provider_agp.find_element(\"tag name\", \"span\")\n",
        "                provider_p=provider_gp.find_element(\"tag name\", \"span\")\n",
        "                provider=provider_p.find_element(\"tag name\", \"span\").text\n",
        "                #print(provider)\n",
        "                infos.append(provider)\n",
        "\n",
        "                description = \"No description\" #element.find_element(\"tag name\", \"p\").text\n",
        "                #print(description)\n",
        "                infos.append(description)\n",
        "                print(infos)\n",
        "\n",
        "                courses.append(infos)\n",
        "\n",
        "    except StaleElementReferenceException:\n",
        "        # Re-find the elements if they become stale\n",
        "        elements = driver.find_elements(\"xpath\", \"//div[@class='base-card-wrapper']\")\n",
        "        print(\"ecxept 3\")\n",
        "\n",
        "    return courses"
      ]
    },
    {
      "cell_type": "code",
      "execution_count": null,
      "id": "5f71a9cf-1a2c-42d4-b328-0b8c6a4bc6b1",
      "metadata": {
        "id": "5f71a9cf-1a2c-42d4-b328-0b8c6a4bc6b1"
      },
      "outputs": [],
      "source": [
        "#show-all-link text-primary-500 btn btn-link muted-link inline-link d-inline-block pl-0 pt-0 pr-0 pb-0 px-xl-0\n",
        "from selenium.common.exceptions import StaleElementReferenceException, NoSuchElementException\n",
        "\n",
        "def scrapeEdx(subject):\n",
        "\n",
        "    #search_bar = driver.find_element(\"id\", \"pgn-searchfield-input-32023\")\n",
        "    search_bar = driver.find_element(\"id\", \"pgn-searchfield-input-32032\")\n",
        "    #pgn-searchfield-input-32032\n",
        "    search_bar.send_keys(subject)\n",
        "\n",
        "    search_bar.submit()\n",
        "\n",
        "    courses=[]\n",
        "\n",
        "    try:\n",
        "        elements = driver.find_elements(\"xpath\", \"//*[@class='base-card-wrapper']\")\n",
        "        print(len(elements))\n",
        "        #courses=[]\n",
        "\n",
        "        for element in elements:\n",
        "            infos=[]\n",
        "            try:\n",
        "                card_link = element.find_element(\"xpath\", \".//*[@class='base-card-link']\")\n",
        "                title_gp=card_link.find_element(\"xpath\", \".//*[@class='pgn__card-header-title-md']\")\n",
        "                title_p=title_gp.find_element(\"tag name\", \"span\")\n",
        "                spans=title_p.find_elements(\"tag name\", \"span\")\n",
        "                span1=spans[0].text\n",
        "                span2=spans[1].text\n",
        "                title=span1+\" \"+span2\n",
        "\n",
        "                #print(title)\n",
        "                infos.append(title)\n",
        "\n",
        "                link = card_link.get_attribute(\"href\")\n",
        "                #print(link)\n",
        "                infos.append(link)\n",
        "\n",
        "                type = element.find_element(\"xpath\",\".//*[@class='badge badge-primary']\").text\n",
        "                #print(type)\n",
        "                infos.append(type)\n",
        "\n",
        "                provider_agp=element.find_element(\"xpath\", \"//div[@class='pgn__card-header-subtitle-md']\")\n",
        "                provider_gp=provider_agp.find_element(\"tag name\", \"span\")\n",
        "                provider_p=provider_gp.find_element(\"tag name\", \"span\")\n",
        "                provider=provider_p.find_element(\"tag name\", \"span\").text\n",
        "                #print(provider)\n",
        "                infos.append(provider)\n",
        "\n",
        "                description = \"No description\" #element.find_element(\"tag name\", \"p\").text\n",
        "                #print(description)\n",
        "                infos.append(description)\n",
        "                print(infos)\n",
        "\n",
        "                courses.append(infos)\n",
        "\n",
        "            except StaleElementReferenceException:\n",
        "            # Re-find the element if it becomes stale\n",
        "                element = driver.find_element(\"xpath\", \"//div[@class='base-card-wrapper']\")\n",
        "\n",
        "                card_link = element.find_element(\"xpath\", \".//*[@class='base-card-link']\")\n",
        "                title_gp=card_link.find_element(\"xpath\", \".//*[@class='pgn__card-header-title-md']\")\n",
        "                title_p=title_gp.find_element(\"tag name\", \"span\")\n",
        "                spans=title_p.find_elements(\"tag name\", \"span\")\n",
        "                span1=spans[0].text\n",
        "                span2=spans[1].text\n",
        "                title=span1+\" \"+span2\n",
        "\n",
        "                #print(title)\n",
        "                infos.append(title)\n",
        "\n",
        "                link = card_link.get_attribute(\"href\")\n",
        "                #print(link)\n",
        "                infos.append(link)\n",
        "\n",
        "                type = element.find_element(\"xpath\",\".//*[@class='badge badge-primary']\").text\n",
        "                #print(type)\n",
        "                infos.append(type)\n",
        "\n",
        "                provider_agp=element.find_element(\"xpath\", \"//div[@class='pgn__card-header-subtitle-md']\")\n",
        "                provider_gp=provider_agp.find_element(\"tag name\", \"span\")\n",
        "                provider_p=provider_gp.find_element(\"tag name\", \"span\")\n",
        "                provider=provider_p.find_element(\"tag name\", \"span\").text\n",
        "                #print(provider)\n",
        "                infos.append(provider)\n",
        "\n",
        "                description = \"No description\" #element.find_element(\"tag name\", \"p\").text\n",
        "                #print(description)\n",
        "                infos.append(description)\n",
        "                print(infos)\n",
        "\n",
        "                courses.append(infos)\n",
        "\n",
        "    except StaleElementReferenceException:\n",
        "        # Re-find the elements if they become stale\n",
        "        elements = driver.find_elements(\"xpath\", \"//div[@class='base-card-wrapper']\")\n",
        "        print(\"ecxept 3\")\n",
        "\n",
        "    return courses"
      ]
    },
    {
      "cell_type": "code",
      "execution_count": null,
      "id": "5a54fd00-8c5b-47a5-bd5a-b81f55398a27",
      "metadata": {
        "id": "5a54fd00-8c5b-47a5-bd5a-b81f55398a27",
        "outputId": "ce508635-985f-4f37-e6dd-1fc709b5531b"
      },
      "outputs": [
        {
          "name": "stdout",
          "output_type": "stream",
          "text": [
            "14\n",
            "['Artificial Intelligence:\\nImplications for Business\\nStrategy Artificial Intelligence:', 'https://www.edx.org/executive-education/massachusetts-institute-of-technology-artificial-intelligence-implications-for-business-strategy?webview=false&campaign=Artificial+Intelligence%3A+Implications+for+Business+Strategy&source=2u&product_category=executive-education&placement_url=https%3A%2F%2Fwww.edx.org%2F', 'Executive Education', 'MIT Sloan School of Management', 'No description']\n",
            "['Oxford Artificial\\nIntelligence Programme Oxford Artificial', 'https://www.edx.org/executive-education/university-of-oxford-artificial-intelligence-programme?webview=false&campaign=Oxford+Artificial+Intelligence+Programme&source=2u&product_category=executive-education&placement_url=https%3A%2F%2Fwww.edx.org%2F', 'Executive Education', 'MIT Sloan School of Management', 'No description']\n",
            "['Artificial Intelligence in\\nHealth Care Artificial Intelligence in', 'https://www.edx.org/executive-education/massachusetts-institute-of-technology-artificial-intelligence-in-health-care?webview=false&campaign=Artificial+Intelligence+in+Health+Care&source=2u&product_category=executive-education&placement_url=https%3A%2F%2Fwww.edx.org%2F', 'Executive Education', 'MIT Sloan School of Management', 'No description']\n",
            "['Nutrition Science Nutrition Science', 'https://www.edx.org/executive-education/stanford-university-nutrition-science?webview=false&campaign=Nutrition+Science&source=2u&product_category=executive-education&placement_url=https%3A%2F%2Fwww.edx.org%2F', 'Executive Education', 'MIT Sloan School of Management', 'No description']\n",
            "['Artificial Intelligence:\\nImplications for Business\\nStrategy Artificial Intelligence:', 'https://www.edx.org/executive-education/massachusetts-institute-of-technology-artificial-intelligence-implications-for-business-strategy?parent_component=new-on-edx&webview=false&campaign=Artificial+Intelligence%3A+Implications+for+Business+Strategy&source=2u&product_category=executive-education&placement_url=https%3A%2F%2Fwww.edx.org%2Fsearch', 'Executive Education', 'MIT Sloan School of Management', 'No description']\n",
            "['Artificial Intelligence:\\nImplications for Business\\nStrategy Artificial Intelligence:', 'https://www.edx.org/executive-education/massachusetts-institute-of-technology-artificial-intelligence-implications-for-business-strategy?parent_component=new-on-edx&webview=false&campaign=Artificial+Intelligence%3A+Implications+for+Business+Strategy&source=2u&product_category=executive-education&placement_url=https%3A%2F%2Fwww.edx.org%2Fsearch', 'Executive Education', 'MIT Sloan School of Management', 'No description']\n",
            "['Artificial Intelligence:\\nImplications for Business\\nStrategy Artificial Intelligence:', 'https://www.edx.org/executive-education/massachusetts-institute-of-technology-artificial-intelligence-implications-for-business-strategy?parent_component=new-on-edx&webview=false&campaign=Artificial+Intelligence%3A+Implications+for+Business+Strategy&source=2u&product_category=executive-education&placement_url=https%3A%2F%2Fwww.edx.org%2Fsearch', 'Executive Education', 'MIT Sloan School of Management', 'No description']\n",
            "['Artificial Intelligence:\\nImplications for Business\\nStrategy Artificial Intelligence:', 'https://www.edx.org/executive-education/massachusetts-institute-of-technology-artificial-intelligence-implications-for-business-strategy?parent_component=new-on-edx&webview=false&campaign=Artificial+Intelligence%3A+Implications+for+Business+Strategy&source=2u&product_category=executive-education&placement_url=https%3A%2F%2Fwww.edx.org%2Fsearch', 'Executive Education', 'MIT Sloan School of Management', 'No description']\n",
            "['Artificial Intelligence:\\nImplications for Business\\nStrategy Artificial Intelligence:', 'https://www.edx.org/executive-education/massachusetts-institute-of-technology-artificial-intelligence-implications-for-business-strategy?parent_component=new-on-edx&webview=false&campaign=Artificial+Intelligence%3A+Implications+for+Business+Strategy&source=2u&product_category=executive-education&placement_url=https%3A%2F%2Fwww.edx.org%2Fsearch', 'Executive Education', 'MIT Sloan School of Management', 'No description']\n",
            "['Artificial Intelligence:\\nImplications for Business\\nStrategy Artificial Intelligence:', 'https://www.edx.org/executive-education/massachusetts-institute-of-technology-artificial-intelligence-implications-for-business-strategy?parent_component=new-on-edx&webview=false&campaign=Artificial+Intelligence%3A+Implications+for+Business+Strategy&source=2u&product_category=executive-education&placement_url=https%3A%2F%2Fwww.edx.org%2Fsearch', 'Executive Education', 'MIT Sloan School of Management', 'No description']\n",
            "['Artificial Intelligence:\\nImplications for Business\\nStrategy Artificial Intelligence:', 'https://www.edx.org/executive-education/massachusetts-institute-of-technology-artificial-intelligence-implications-for-business-strategy?parent_component=new-on-edx&webview=false&campaign=Artificial+Intelligence%3A+Implications+for+Business+Strategy&source=2u&product_category=executive-education&placement_url=https%3A%2F%2Fwww.edx.org%2Fsearch', 'Executive Education', 'MIT Sloan School of Management', 'No description']\n",
            "['Artificial Intelligence:\\nImplications for Business\\nStrategy Artificial Intelligence:', 'https://www.edx.org/executive-education/massachusetts-institute-of-technology-artificial-intelligence-implications-for-business-strategy?parent_component=new-on-edx&webview=false&campaign=Artificial+Intelligence%3A+Implications+for+Business+Strategy&source=2u&product_category=executive-education&placement_url=https%3A%2F%2Fwww.edx.org%2Fsearch', 'Executive Education', 'MIT Sloan School of Management', 'No description']\n"
          ]
        },
        {
          "ename": "NoSuchElementException",
          "evalue": "Message: Unable to locate element: //div[@class='base-card-wrapper']; For documentation on this error, please visit: https://www.selenium.dev/documentation/webdriver/troubleshooting/errors#no-such-element-exception\nStacktrace:\nRemoteError@chrome://remote/content/shared/RemoteError.sys.mjs:8:8\nWebDriverError@chrome://remote/content/shared/webdriver/Errors.sys.mjs:189:5\nNoSuchElementError@chrome://remote/content/shared/webdriver/Errors.sys.mjs:507:5\ndom.find/</<@chrome://remote/content/shared/DOM.sys.mjs:132:16\n",
          "output_type": "error",
          "traceback": [
            "\u001b[1;31m---------------------------------------------------------------------------\u001b[0m",
            "\u001b[1;31mStaleElementReferenceException\u001b[0m            Traceback (most recent call last)",
            "Cell \u001b[1;32mIn[3], line 42\u001b[0m, in \u001b[0;36mscrapeEdx\u001b[1;34m(subject)\u001b[0m\n\u001b[0;32m     41\u001b[0m provider_agp\u001b[38;5;241m=\u001b[39melement\u001b[38;5;241m.\u001b[39mfind_element(\u001b[38;5;124m\"\u001b[39m\u001b[38;5;124mxpath\u001b[39m\u001b[38;5;124m\"\u001b[39m, \u001b[38;5;124m\"\u001b[39m\u001b[38;5;124m//div[@class=\u001b[39m\u001b[38;5;124m'\u001b[39m\u001b[38;5;124mpgn__card-header-subtitle-md\u001b[39m\u001b[38;5;124m'\u001b[39m\u001b[38;5;124m]\u001b[39m\u001b[38;5;124m\"\u001b[39m)\n\u001b[1;32m---> 42\u001b[0m provider_gp\u001b[38;5;241m=\u001b[39m\u001b[43mprovider_agp\u001b[49m\u001b[38;5;241;43m.\u001b[39;49m\u001b[43mfind_element\u001b[49m\u001b[43m(\u001b[49m\u001b[38;5;124;43m\"\u001b[39;49m\u001b[38;5;124;43mtag name\u001b[39;49m\u001b[38;5;124;43m\"\u001b[39;49m\u001b[43m,\u001b[49m\u001b[43m \u001b[49m\u001b[38;5;124;43m\"\u001b[39;49m\u001b[38;5;124;43mspan\u001b[39;49m\u001b[38;5;124;43m\"\u001b[39;49m\u001b[43m)\u001b[49m\n\u001b[0;32m     43\u001b[0m provider_p\u001b[38;5;241m=\u001b[39mprovider_gp\u001b[38;5;241m.\u001b[39mfind_element(\u001b[38;5;124m\"\u001b[39m\u001b[38;5;124mtag name\u001b[39m\u001b[38;5;124m\"\u001b[39m, \u001b[38;5;124m\"\u001b[39m\u001b[38;5;124mspan\u001b[39m\u001b[38;5;124m\"\u001b[39m)\n",
            "File \u001b[1;32m~\\anaconda3\\envs\\env1\\lib\\site-packages\\selenium\\webdriver\\remote\\webelement.py:416\u001b[0m, in \u001b[0;36mWebElement.find_element\u001b[1;34m(self, by, value)\u001b[0m\n\u001b[0;32m    414\u001b[0m     value \u001b[38;5;241m=\u001b[39m \u001b[38;5;124mf\u001b[39m\u001b[38;5;124m'\u001b[39m\u001b[38;5;124m[name=\u001b[39m\u001b[38;5;124m\"\u001b[39m\u001b[38;5;132;01m{\u001b[39;00mvalue\u001b[38;5;132;01m}\u001b[39;00m\u001b[38;5;124m\"\u001b[39m\u001b[38;5;124m]\u001b[39m\u001b[38;5;124m'\u001b[39m\n\u001b[1;32m--> 416\u001b[0m \u001b[38;5;28;01mreturn\u001b[39;00m \u001b[38;5;28;43mself\u001b[39;49m\u001b[38;5;241;43m.\u001b[39;49m\u001b[43m_execute\u001b[49m\u001b[43m(\u001b[49m\u001b[43mCommand\u001b[49m\u001b[38;5;241;43m.\u001b[39;49m\u001b[43mFIND_CHILD_ELEMENT\u001b[49m\u001b[43m,\u001b[49m\u001b[43m \u001b[49m\u001b[43m{\u001b[49m\u001b[38;5;124;43m\"\u001b[39;49m\u001b[38;5;124;43musing\u001b[39;49m\u001b[38;5;124;43m\"\u001b[39;49m\u001b[43m:\u001b[49m\u001b[43m \u001b[49m\u001b[43mby\u001b[49m\u001b[43m,\u001b[49m\u001b[43m \u001b[49m\u001b[38;5;124;43m\"\u001b[39;49m\u001b[38;5;124;43mvalue\u001b[39;49m\u001b[38;5;124;43m\"\u001b[39;49m\u001b[43m:\u001b[49m\u001b[43m \u001b[49m\u001b[43mvalue\u001b[49m\u001b[43m}\u001b[49m\u001b[43m)\u001b[49m[\u001b[38;5;124m\"\u001b[39m\u001b[38;5;124mvalue\u001b[39m\u001b[38;5;124m\"\u001b[39m]\n",
            "File \u001b[1;32m~\\anaconda3\\envs\\env1\\lib\\site-packages\\selenium\\webdriver\\remote\\webelement.py:394\u001b[0m, in \u001b[0;36mWebElement._execute\u001b[1;34m(self, command, params)\u001b[0m\n\u001b[0;32m    393\u001b[0m params[\u001b[38;5;124m\"\u001b[39m\u001b[38;5;124mid\u001b[39m\u001b[38;5;124m\"\u001b[39m] \u001b[38;5;241m=\u001b[39m \u001b[38;5;28mself\u001b[39m\u001b[38;5;241m.\u001b[39m_id\n\u001b[1;32m--> 394\u001b[0m \u001b[38;5;28;01mreturn\u001b[39;00m \u001b[38;5;28;43mself\u001b[39;49m\u001b[38;5;241;43m.\u001b[39;49m\u001b[43m_parent\u001b[49m\u001b[38;5;241;43m.\u001b[39;49m\u001b[43mexecute\u001b[49m\u001b[43m(\u001b[49m\u001b[43mcommand\u001b[49m\u001b[43m,\u001b[49m\u001b[43m \u001b[49m\u001b[43mparams\u001b[49m\u001b[43m)\u001b[49m\n",
            "File \u001b[1;32m~\\anaconda3\\envs\\env1\\lib\\site-packages\\selenium\\webdriver\\remote\\webdriver.py:347\u001b[0m, in \u001b[0;36mWebDriver.execute\u001b[1;34m(self, driver_command, params)\u001b[0m\n\u001b[0;32m    346\u001b[0m \u001b[38;5;28;01mif\u001b[39;00m response:\n\u001b[1;32m--> 347\u001b[0m     \u001b[38;5;28;43mself\u001b[39;49m\u001b[38;5;241;43m.\u001b[39;49m\u001b[43merror_handler\u001b[49m\u001b[38;5;241;43m.\u001b[39;49m\u001b[43mcheck_response\u001b[49m\u001b[43m(\u001b[49m\u001b[43mresponse\u001b[49m\u001b[43m)\u001b[49m\n\u001b[0;32m    348\u001b[0m     response[\u001b[38;5;124m\"\u001b[39m\u001b[38;5;124mvalue\u001b[39m\u001b[38;5;124m\"\u001b[39m] \u001b[38;5;241m=\u001b[39m \u001b[38;5;28mself\u001b[39m\u001b[38;5;241m.\u001b[39m_unwrap_value(response\u001b[38;5;241m.\u001b[39mget(\u001b[38;5;124m\"\u001b[39m\u001b[38;5;124mvalue\u001b[39m\u001b[38;5;124m\"\u001b[39m, \u001b[38;5;28;01mNone\u001b[39;00m))\n",
            "File \u001b[1;32m~\\anaconda3\\envs\\env1\\lib\\site-packages\\selenium\\webdriver\\remote\\errorhandler.py:229\u001b[0m, in \u001b[0;36mErrorHandler.check_response\u001b[1;34m(self, response)\u001b[0m\n\u001b[0;32m    228\u001b[0m     \u001b[38;5;28;01mraise\u001b[39;00m exception_class(message, screen, stacktrace, alert_text)  \u001b[38;5;66;03m# type: ignore[call-arg]  # mypy is not smart enough here\u001b[39;00m\n\u001b[1;32m--> 229\u001b[0m \u001b[38;5;28;01mraise\u001b[39;00m exception_class(message, screen, stacktrace)\n",
            "\u001b[1;31mStaleElementReferenceException\u001b[0m: Message: The element with the reference 23d2f7d2-7cd1-4ec5-8511-0a4acfb89af6 is stale; either its node document is not the active document, or it is no longer connected to the DOM; For documentation on this error, please visit: https://www.selenium.dev/documentation/webdriver/troubleshooting/errors#stale-element-reference-exception\nStacktrace:\nRemoteError@chrome://remote/content/shared/RemoteError.sys.mjs:8:8\nWebDriverError@chrome://remote/content/shared/webdriver/Errors.sys.mjs:189:5\nStaleElementReferenceError@chrome://remote/content/shared/webdriver/Errors.sys.mjs:676:5\ngetKnownElement@chrome://remote/content/marionette/json.sys.mjs:286:11\ndeserializeJSON@chrome://remote/content/marionette/json.sys.mjs:233:20\ncloneObject@chrome://remote/content/marionette/json.sys.mjs:54:24\ndeserializeJSON@chrome://remote/content/marionette/json.sys.mjs:240:16\ncloneObject@chrome://remote/content/marionette/json.sys.mjs:54:24\ndeserializeJSON@chrome://remote/content/marionette/json.sys.mjs:240:16\njson.deserialize@chrome://remote/content/marionette/json.sys.mjs:244:10\nreceiveMessage@chrome://remote/content/marionette/actors/MarionetteCommandsChild.sys.mjs:72:30\n",
            "\nDuring handling of the above exception, another exception occurred:\n",
            "\u001b[1;31mNoSuchElementException\u001b[0m                    Traceback (most recent call last)",
            "Cell \u001b[1;32mIn[6], line 1\u001b[0m\n\u001b[1;32m----> 1\u001b[0m \u001b[43mscrapeEdx\u001b[49m\u001b[43m(\u001b[49m\u001b[43msubject\u001b[49m\u001b[43m)\u001b[49m\n",
            "Cell \u001b[1;32mIn[3], line 57\u001b[0m, in \u001b[0;36mscrapeEdx\u001b[1;34m(subject)\u001b[0m\n\u001b[0;32m     53\u001b[0m     courses\u001b[38;5;241m.\u001b[39mappend(infos)\n\u001b[0;32m     55\u001b[0m \u001b[38;5;28;01mexcept\u001b[39;00m StaleElementReferenceException:\n\u001b[0;32m     56\u001b[0m \u001b[38;5;66;03m# Re-find the element if it becomes stale\u001b[39;00m\n\u001b[1;32m---> 57\u001b[0m     element \u001b[38;5;241m=\u001b[39m \u001b[43mdriver\u001b[49m\u001b[38;5;241;43m.\u001b[39;49m\u001b[43mfind_element\u001b[49m\u001b[43m(\u001b[49m\u001b[38;5;124;43m\"\u001b[39;49m\u001b[38;5;124;43mxpath\u001b[39;49m\u001b[38;5;124;43m\"\u001b[39;49m\u001b[43m,\u001b[49m\u001b[43m \u001b[49m\u001b[38;5;124;43m\"\u001b[39;49m\u001b[38;5;124;43m//div[@class=\u001b[39;49m\u001b[38;5;124;43m'\u001b[39;49m\u001b[38;5;124;43mbase-card-wrapper\u001b[39;49m\u001b[38;5;124;43m'\u001b[39;49m\u001b[38;5;124;43m]\u001b[39;49m\u001b[38;5;124;43m\"\u001b[39;49m\u001b[43m)\u001b[49m\n\u001b[0;32m     59\u001b[0m     card_link \u001b[38;5;241m=\u001b[39m element\u001b[38;5;241m.\u001b[39mfind_element(\u001b[38;5;124m\"\u001b[39m\u001b[38;5;124mxpath\u001b[39m\u001b[38;5;124m\"\u001b[39m, \u001b[38;5;124m\"\u001b[39m\u001b[38;5;124m.//*[@class=\u001b[39m\u001b[38;5;124m'\u001b[39m\u001b[38;5;124mbase-card-link\u001b[39m\u001b[38;5;124m'\u001b[39m\u001b[38;5;124m]\u001b[39m\u001b[38;5;124m\"\u001b[39m)\n\u001b[0;32m     60\u001b[0m     title_gp\u001b[38;5;241m=\u001b[39mcard_link\u001b[38;5;241m.\u001b[39mfind_element(\u001b[38;5;124m\"\u001b[39m\u001b[38;5;124mxpath\u001b[39m\u001b[38;5;124m\"\u001b[39m, \u001b[38;5;124m\"\u001b[39m\u001b[38;5;124m.//*[@class=\u001b[39m\u001b[38;5;124m'\u001b[39m\u001b[38;5;124mpgn__card-header-title-md\u001b[39m\u001b[38;5;124m'\u001b[39m\u001b[38;5;124m]\u001b[39m\u001b[38;5;124m\"\u001b[39m)\n",
            "File \u001b[1;32m~\\anaconda3\\envs\\env1\\lib\\site-packages\\selenium\\webdriver\\remote\\webdriver.py:741\u001b[0m, in \u001b[0;36mWebDriver.find_element\u001b[1;34m(self, by, value)\u001b[0m\n\u001b[0;32m    738\u001b[0m     by \u001b[38;5;241m=\u001b[39m By\u001b[38;5;241m.\u001b[39mCSS_SELECTOR\n\u001b[0;32m    739\u001b[0m     value \u001b[38;5;241m=\u001b[39m \u001b[38;5;124mf\u001b[39m\u001b[38;5;124m'\u001b[39m\u001b[38;5;124m[name=\u001b[39m\u001b[38;5;124m\"\u001b[39m\u001b[38;5;132;01m{\u001b[39;00mvalue\u001b[38;5;132;01m}\u001b[39;00m\u001b[38;5;124m\"\u001b[39m\u001b[38;5;124m]\u001b[39m\u001b[38;5;124m'\u001b[39m\n\u001b[1;32m--> 741\u001b[0m \u001b[38;5;28;01mreturn\u001b[39;00m \u001b[38;5;28;43mself\u001b[39;49m\u001b[38;5;241;43m.\u001b[39;49m\u001b[43mexecute\u001b[49m\u001b[43m(\u001b[49m\u001b[43mCommand\u001b[49m\u001b[38;5;241;43m.\u001b[39;49m\u001b[43mFIND_ELEMENT\u001b[49m\u001b[43m,\u001b[49m\u001b[43m \u001b[49m\u001b[43m{\u001b[49m\u001b[38;5;124;43m\"\u001b[39;49m\u001b[38;5;124;43musing\u001b[39;49m\u001b[38;5;124;43m\"\u001b[39;49m\u001b[43m:\u001b[49m\u001b[43m \u001b[49m\u001b[43mby\u001b[49m\u001b[43m,\u001b[49m\u001b[43m \u001b[49m\u001b[38;5;124;43m\"\u001b[39;49m\u001b[38;5;124;43mvalue\u001b[39;49m\u001b[38;5;124;43m\"\u001b[39;49m\u001b[43m:\u001b[49m\u001b[43m \u001b[49m\u001b[43mvalue\u001b[49m\u001b[43m}\u001b[49m\u001b[43m)\u001b[49m[\u001b[38;5;124m\"\u001b[39m\u001b[38;5;124mvalue\u001b[39m\u001b[38;5;124m\"\u001b[39m]\n",
            "File \u001b[1;32m~\\anaconda3\\envs\\env1\\lib\\site-packages\\selenium\\webdriver\\remote\\webdriver.py:347\u001b[0m, in \u001b[0;36mWebDriver.execute\u001b[1;34m(self, driver_command, params)\u001b[0m\n\u001b[0;32m    345\u001b[0m response \u001b[38;5;241m=\u001b[39m \u001b[38;5;28mself\u001b[39m\u001b[38;5;241m.\u001b[39mcommand_executor\u001b[38;5;241m.\u001b[39mexecute(driver_command, params)\n\u001b[0;32m    346\u001b[0m \u001b[38;5;28;01mif\u001b[39;00m response:\n\u001b[1;32m--> 347\u001b[0m     \u001b[38;5;28;43mself\u001b[39;49m\u001b[38;5;241;43m.\u001b[39;49m\u001b[43merror_handler\u001b[49m\u001b[38;5;241;43m.\u001b[39;49m\u001b[43mcheck_response\u001b[49m\u001b[43m(\u001b[49m\u001b[43mresponse\u001b[49m\u001b[43m)\u001b[49m\n\u001b[0;32m    348\u001b[0m     response[\u001b[38;5;124m\"\u001b[39m\u001b[38;5;124mvalue\u001b[39m\u001b[38;5;124m\"\u001b[39m] \u001b[38;5;241m=\u001b[39m \u001b[38;5;28mself\u001b[39m\u001b[38;5;241m.\u001b[39m_unwrap_value(response\u001b[38;5;241m.\u001b[39mget(\u001b[38;5;124m\"\u001b[39m\u001b[38;5;124mvalue\u001b[39m\u001b[38;5;124m\"\u001b[39m, \u001b[38;5;28;01mNone\u001b[39;00m))\n\u001b[0;32m    349\u001b[0m     \u001b[38;5;28;01mreturn\u001b[39;00m response\n",
            "File \u001b[1;32m~\\anaconda3\\envs\\env1\\lib\\site-packages\\selenium\\webdriver\\remote\\errorhandler.py:229\u001b[0m, in \u001b[0;36mErrorHandler.check_response\u001b[1;34m(self, response)\u001b[0m\n\u001b[0;32m    227\u001b[0m         alert_text \u001b[38;5;241m=\u001b[39m value[\u001b[38;5;124m\"\u001b[39m\u001b[38;5;124malert\u001b[39m\u001b[38;5;124m\"\u001b[39m]\u001b[38;5;241m.\u001b[39mget(\u001b[38;5;124m\"\u001b[39m\u001b[38;5;124mtext\u001b[39m\u001b[38;5;124m\"\u001b[39m)\n\u001b[0;32m    228\u001b[0m     \u001b[38;5;28;01mraise\u001b[39;00m exception_class(message, screen, stacktrace, alert_text)  \u001b[38;5;66;03m# type: ignore[call-arg]  # mypy is not smart enough here\u001b[39;00m\n\u001b[1;32m--> 229\u001b[0m \u001b[38;5;28;01mraise\u001b[39;00m exception_class(message, screen, stacktrace)\n",
            "\u001b[1;31mNoSuchElementException\u001b[0m: Message: Unable to locate element: //div[@class='base-card-wrapper']; For documentation on this error, please visit: https://www.selenium.dev/documentation/webdriver/troubleshooting/errors#no-such-element-exception\nStacktrace:\nRemoteError@chrome://remote/content/shared/RemoteError.sys.mjs:8:8\nWebDriverError@chrome://remote/content/shared/webdriver/Errors.sys.mjs:189:5\nNoSuchElementError@chrome://remote/content/shared/webdriver/Errors.sys.mjs:507:5\ndom.find/</<@chrome://remote/content/shared/DOM.sys.mjs:132:16\n"
          ]
        }
      ],
      "source": [
        "scrapeEdx(subject)\n"
      ]
    },
    {
      "cell_type": "code",
      "execution_count": null,
      "id": "83f80cfc-ebc7-4fba-9a9c-824fb8755e13",
      "metadata": {
        "id": "83f80cfc-ebc7-4fba-9a9c-824fb8755e13"
      },
      "outputs": [],
      "source": [
        "from selenium.webdriver.support.ui import WebDriverWait\n",
        "from selenium.webdriver.common.by import By\n",
        "from selenium.webdriver.support import expected_conditions as EC\n",
        "\n",
        "def browsePages(subject):\n",
        "    #search_bar = driver.find_element(\"xpath\", \"//input[@class='form-control search-input pl-3 small default']\")\n",
        "    #search_bar.send_keys(subject)\n",
        "    #search_bar.submit()\n",
        "    WebDriverWait(driver, 1000000000).until(EC.element_to_be_clickable((By.XPATH, \"//input[@class='form-control search-input pl-3 small default']\"))).send_keys(subject)\n",
        "    driver.find_element(By.XPATH, \"//input[@class='form-control search-input pl-3 small default']\").click()\n",
        "    driver.find_element(By.XPATH, \"//input[@class='form-control search-input pl-3 small default']\").send_keys(subject)\n",
        "    next_page_links=driver.find_elements(\"xpath\", \"//*[@id='show-all-link text-primary-500 btn btn-link muted-link inline-link d-inline-block pl-0 pt-0 pr-0 pb-0 px-xl-0']\")\n",
        "    print(len(next_page_links))\n",
        "    return\n",
        ""
      ]
    },
    {
      "cell_type": "code",
      "execution_count": null,
      "id": "92a121d6-96a7-4d9a-9c9b-71711169e3d6",
      "metadata": {
        "id": "92a121d6-96a7-4d9a-9c9b-71711169e3d6",
        "outputId": "9d83c65c-b6dd-411f-992d-8332e1fa2ed4"
      },
      "outputs": [
        {
          "name": "stdin",
          "output_type": "stream",
          "text": [
            "Enter what you want to search:  python\n"
          ]
        }
      ],
      "source": [
        "subject = input(\"Enter what you want to search: \")\n",
        "findings=[]"
      ]
    },
    {
      "cell_type": "code",
      "execution_count": null,
      "id": "9bfcb18e-fbf3-4d1d-a438-edfaa313ad86",
      "metadata": {
        "id": "9bfcb18e-fbf3-4d1d-a438-edfaa313ad86"
      },
      "outputs": [],
      "source": [
        "url = urls[1]\n",
        "\n",
        "driver.get(url)\n",
        "\n",
        "#WebDriverWait(driver, 10).until(EC.element_to_be_clickable((By.XPATH,'//button[@id=\"onetrust-accept-btn-handler\"]'))).click()"
      ]
    },
    {
      "cell_type": "code",
      "execution_count": null,
      "id": "e796f650-c65f-4541-9599-bfa5551c6c2b",
      "metadata": {
        "id": "e796f650-c65f-4541-9599-bfa5551c6c2b"
      },
      "outputs": [],
      "source": [
        "browsePages(subject)"
      ]
    },
    {
      "cell_type": "code",
      "execution_count": null,
      "id": "c132328b-5743-48b5-84a8-c0f1e9231108",
      "metadata": {
        "id": "c132328b-5743-48b5-84a8-c0f1e9231108"
      },
      "outputs": [],
      "source": [
        "driver.quit()"
      ]
    },
    {
      "cell_type": "markdown",
      "id": "bb5c5d7e",
      "metadata": {
        "id": "bb5c5d7e"
      },
      "source": [
        "## Video Games"
      ]
    },
    {
      "cell_type": "code",
      "execution_count": null,
      "id": "1dc3ce3a",
      "metadata": {
        "id": "1dc3ce3a",
        "outputId": "0dc73899-c272-450f-f779-7d20a8fbbf1c"
      },
      "outputs": [
        {
          "name": "stderr",
          "output_type": "stream",
          "text": [
            "C:\\Users\\meama\\AppData\\Local\\Temp\\ipykernel_53060\\2825935400.py:8: DeprecationWarning: executable_path has been deprecated, please pass in a Service object\n",
            "  driver = webdriver.Firefox(executable_path=r\"C:\\Users\\meama\\Downloads\\geckodriver-v0.33.0-win64\\geckodriver.exe\", options=options)#options=options)\n"
          ]
        }
      ],
      "source": [
        "options = Options()\n",
        "#options.binary_location = \"C:/Program Files/WindowsApps/Mozilla.Firefox_119.0.0.0_x64__n80bbvh6b1yt2/VFS/ProgramFiles/Firefox Package Root/firefox.exe\"\n",
        "options.binary_location = r\"C:\\Program Files\\WindowsApps\\Mozilla.Firefox_119.0.1.0_x64__n80bbvh6b1yt2\\VFS\\ProgramFiles\\Firefox Package Root\\firefox.exe\"\n",
        "#options.set_preference(\"browser.download.folderList\",2)\n",
        "#options.set_preference(\"browser.download.manager.showWhenStarting\", False)\n",
        "\n",
        "\n",
        "driver = webdriver.Firefox(executable_path=r\"C:\\Users\\meama\\Downloads\\geckodriver-v0.33.0-win64\\geckodriver.exe\", options=options)#options=options)\n",
        "\n",
        "urls=['https://www.fnac.com/l256250/Les-meilleures-ventes-jeux-video/Tous-les-Jeux-Video#bl=ACTous-les-Jeux-Vid%C3%A9oARBO',\n",
        "     'https://www.micromania.fr/jeux-video.html',\n",
        "     'https://www.amazon.com/gp/browse.html?node=16225016011&ref_=nav_em__nav_desktop_sa_intl_video_games_0_2_26_2',\n",
        "     'https://www.carrefour.fr/r/jeux-videos-culture',\n",
        "     'https://www.auchan.fr/jouets-jeux-video-loisirs/jeux-video/ca-22508']\n",
        "\n",
        "url = urls[0]\n",
        "\n",
        "driver.get(url)\n",
        "\n",
        "#wait = WebDriverWait(driver, 10)"
      ]
    },
    {
      "cell_type": "code",
      "execution_count": null,
      "id": "60815062",
      "metadata": {
        "id": "60815062",
        "outputId": "0e7398a3-dfaa-4a2c-88ff-d119ad17a150"
      },
      "outputs": [
        {
          "name": "stdout",
          "output_type": "stream",
          "text": [
            "1\n",
            "2\n",
            "3\n",
            "4\n",
            "5\n",
            "6\n",
            "7\n",
            "8\n",
            "9\n",
            "10\n",
            "11\n",
            "12\n",
            "13\n",
            "14\n",
            "15\n",
            "16\n",
            "17\n",
            "18\n",
            "19\n",
            "20\n",
            "21\n",
            "22\n",
            "23\n",
            "24\n",
            "25\n",
            "26\n",
            "27\n",
            "28\n",
            "29\n",
            "30\n",
            "31\n",
            "32\n",
            "33\n",
            "34\n",
            "35\n",
            "36\n",
            "37\n",
            "38\n",
            "39\n",
            "40\n",
            "41\n",
            "42\n",
            "43\n",
            "44\n",
            "45\n",
            "46\n",
            "47\n",
            "48\n",
            "49\n",
            "50\n",
            "51\n",
            "52\n",
            "53\n",
            "54\n",
            "55\n",
            "56\n",
            "57\n",
            "58\n",
            "59\n",
            "60\n",
            "61\n",
            "62\n",
            "63\n",
            "64\n",
            "65\n",
            "66\n",
            "67\n",
            "68\n",
            "69\n",
            "70\n",
            "71\n",
            "72\n",
            "73\n",
            "74\n",
            "75\n",
            "76\n",
            "77\n",
            "78\n",
            "79\n",
            "80\n",
            "81\n",
            "82\n",
            "83\n",
            "84\n",
            "85\n",
            "86\n",
            "87\n",
            "88\n",
            "89\n",
            "90\n",
            "91\n",
            "92\n",
            "93\n",
            "94\n",
            "95\n",
            "96\n",
            "97\n",
            "98\n",
            "99\n",
            "100\n",
            "101\n",
            "102\n",
            "103\n",
            "104\n",
            "105\n",
            "106\n",
            "107\n",
            "108\n",
            "109\n",
            "110\n",
            "111\n",
            "112\n"
          ]
        },
        {
          "ename": "NameError",
          "evalue": "name 'StaleElementReferenceException' is not defined",
          "output_type": "error",
          "traceback": [
            "\u001b[1;31m---------------------------------------------------------------------------\u001b[0m",
            "\u001b[1;31mStaleElementReferenceException\u001b[0m            Traceback (most recent call last)",
            "\u001b[1;32m~\\AppData\\Local\\Temp\\ipykernel_53060\\2854643755.py\u001b[0m in \u001b[0;36m<module>\u001b[1;34m\u001b[0m\n\u001b[0;32m     29\u001b[0m             \u001b[0mnext_button\u001b[0m \u001b[1;33m=\u001b[0m \u001b[0mdriver\u001b[0m\u001b[1;33m.\u001b[0m\u001b[0mfind_element\u001b[0m\u001b[1;33m(\u001b[0m\u001b[1;34m\"xpath\"\u001b[0m\u001b[1;33m,\u001b[0m \u001b[1;34m\"//a[@class='ff-button ff-button--medium ff-button--outline infinite__button js-InfiniteScrollNextBtn']\"\u001b[0m\u001b[1;33m)\u001b[0m\u001b[1;33m\u001b[0m\u001b[1;33m\u001b[0m\u001b[0m\n\u001b[1;32m---> 30\u001b[1;33m             \u001b[0mdriver\u001b[0m\u001b[1;33m.\u001b[0m\u001b[0mexecute_script\u001b[0m\u001b[1;33m(\u001b[0m\u001b[1;34m\"arguments[0].click();\"\u001b[0m\u001b[1;33m,\u001b[0m \u001b[0mnext_button\u001b[0m\u001b[1;33m)\u001b[0m\u001b[1;33m\u001b[0m\u001b[1;33m\u001b[0m\u001b[0m\n\u001b[0m\u001b[0;32m     31\u001b[0m             \u001b[0miter\u001b[0m\u001b[1;33m+=\u001b[0m\u001b[1;36m1\u001b[0m\u001b[1;33m\u001b[0m\u001b[1;33m\u001b[0m\u001b[0m\n",
            "\u001b[1;32m~\\anaconda3\\lib\\site-packages\\selenium\\webdriver\\remote\\webdriver.py\u001b[0m in \u001b[0;36mexecute_script\u001b[1;34m(self, script, *args)\u001b[0m\n\u001b[0;32m    499\u001b[0m \u001b[1;33m\u001b[0m\u001b[0m\n\u001b[1;32m--> 500\u001b[1;33m         \u001b[1;32mreturn\u001b[0m \u001b[0mself\u001b[0m\u001b[1;33m.\u001b[0m\u001b[0mexecute\u001b[0m\u001b[1;33m(\u001b[0m\u001b[0mcommand\u001b[0m\u001b[1;33m,\u001b[0m \u001b[1;33m{\u001b[0m\u001b[1;34m\"script\"\u001b[0m\u001b[1;33m:\u001b[0m \u001b[0mscript\u001b[0m\u001b[1;33m,\u001b[0m \u001b[1;34m\"args\"\u001b[0m\u001b[1;33m:\u001b[0m \u001b[0mconverted_args\u001b[0m\u001b[1;33m}\u001b[0m\u001b[1;33m)\u001b[0m\u001b[1;33m[\u001b[0m\u001b[1;34m\"value\"\u001b[0m\u001b[1;33m]\u001b[0m\u001b[1;33m\u001b[0m\u001b[1;33m\u001b[0m\u001b[0m\n\u001b[0m\u001b[0;32m    501\u001b[0m \u001b[1;33m\u001b[0m\u001b[0m\n",
            "\u001b[1;32m~\\anaconda3\\lib\\site-packages\\selenium\\webdriver\\remote\\webdriver.py\u001b[0m in \u001b[0;36mexecute\u001b[1;34m(self, driver_command, params)\u001b[0m\n\u001b[0;32m    439\u001b[0m         \u001b[1;32mif\u001b[0m \u001b[0mresponse\u001b[0m\u001b[1;33m:\u001b[0m\u001b[1;33m\u001b[0m\u001b[1;33m\u001b[0m\u001b[0m\n\u001b[1;32m--> 440\u001b[1;33m             \u001b[0mself\u001b[0m\u001b[1;33m.\u001b[0m\u001b[0merror_handler\u001b[0m\u001b[1;33m.\u001b[0m\u001b[0mcheck_response\u001b[0m\u001b[1;33m(\u001b[0m\u001b[0mresponse\u001b[0m\u001b[1;33m)\u001b[0m\u001b[1;33m\u001b[0m\u001b[1;33m\u001b[0m\u001b[0m\n\u001b[0m\u001b[0;32m    441\u001b[0m             \u001b[0mresponse\u001b[0m\u001b[1;33m[\u001b[0m\u001b[1;34m\"value\"\u001b[0m\u001b[1;33m]\u001b[0m \u001b[1;33m=\u001b[0m \u001b[0mself\u001b[0m\u001b[1;33m.\u001b[0m\u001b[0m_unwrap_value\u001b[0m\u001b[1;33m(\u001b[0m\u001b[0mresponse\u001b[0m\u001b[1;33m.\u001b[0m\u001b[0mget\u001b[0m\u001b[1;33m(\u001b[0m\u001b[1;34m\"value\"\u001b[0m\u001b[1;33m,\u001b[0m \u001b[1;32mNone\u001b[0m\u001b[1;33m)\u001b[0m\u001b[1;33m)\u001b[0m\u001b[1;33m\u001b[0m\u001b[1;33m\u001b[0m\u001b[0m\n",
            "\u001b[1;32m~\\anaconda3\\lib\\site-packages\\selenium\\webdriver\\remote\\errorhandler.py\u001b[0m in \u001b[0;36mcheck_response\u001b[1;34m(self, response)\u001b[0m\n\u001b[0;32m    244\u001b[0m             \u001b[1;32mraise\u001b[0m \u001b[0mexception_class\u001b[0m\u001b[1;33m(\u001b[0m\u001b[0mmessage\u001b[0m\u001b[1;33m,\u001b[0m \u001b[0mscreen\u001b[0m\u001b[1;33m,\u001b[0m \u001b[0mstacktrace\u001b[0m\u001b[1;33m,\u001b[0m \u001b[0malert_text\u001b[0m\u001b[1;33m)\u001b[0m  \u001b[1;31m# type: ignore[call-arg]  # mypy is not smart enough here\u001b[0m\u001b[1;33m\u001b[0m\u001b[1;33m\u001b[0m\u001b[0m\n\u001b[1;32m--> 245\u001b[1;33m         \u001b[1;32mraise\u001b[0m \u001b[0mexception_class\u001b[0m\u001b[1;33m(\u001b[0m\u001b[0mmessage\u001b[0m\u001b[1;33m,\u001b[0m \u001b[0mscreen\u001b[0m\u001b[1;33m,\u001b[0m \u001b[0mstacktrace\u001b[0m\u001b[1;33m)\u001b[0m\u001b[1;33m\u001b[0m\u001b[1;33m\u001b[0m\u001b[0m\n\u001b[0m",
            "\u001b[1;31mStaleElementReferenceException\u001b[0m: Message: The element with the reference fcb35fd5-afca-4253-9c4b-33be3598f2a7 is stale; either its node document is not the active document, or it is no longer connected to the DOM\nStacktrace:\nRemoteError@chrome://remote/content/shared/RemoteError.sys.mjs:8:8\nWebDriverError@chrome://remote/content/shared/webdriver/Errors.sys.mjs:189:5\nStaleElementReferenceError@chrome://remote/content/shared/webdriver/Errors.sys.mjs:676:5\ngetKnownElement@chrome://remote/content/marionette/json.sys.mjs:286:11\ndeserializeJSON@chrome://remote/content/marionette/json.sys.mjs:233:20\ncloneObject/result<@chrome://remote/content/marionette/json.sys.mjs:48:52\ncloneObject@chrome://remote/content/marionette/json.sys.mjs:48:25\ndeserializeJSON@chrome://remote/content/marionette/json.sys.mjs:240:16\ncloneObject@chrome://remote/content/marionette/json.sys.mjs:54:24\ndeserializeJSON@chrome://remote/content/marionette/json.sys.mjs:240:16\njson.deserialize@chrome://remote/content/marionette/json.sys.mjs:244:10\nreceiveMessage@chrome://remote/content/marionette/actors/MarionetteCommandsChild.sys.mjs:72:30\n",
            "\nDuring handling of the above exception, another exception occurred:\n",
            "\u001b[1;31mNameError\u001b[0m                                 Traceback (most recent call last)",
            "\u001b[1;32m~\\AppData\\Local\\Temp\\ipykernel_53060\\2854643755.py\u001b[0m in \u001b[0;36m<module>\u001b[1;34m\u001b[0m\n\u001b[0;32m     31\u001b[0m             \u001b[0miter\u001b[0m\u001b[1;33m+=\u001b[0m\u001b[1;36m1\u001b[0m\u001b[1;33m\u001b[0m\u001b[1;33m\u001b[0m\u001b[0m\n\u001b[1;32m---> 32\u001b[1;33m         \u001b[1;32mexcept\u001b[0m \u001b[0mNoSuchElementException\u001b[0m\u001b[1;33m:\u001b[0m\u001b[1;33m\u001b[0m\u001b[1;33m\u001b[0m\u001b[0m\n\u001b[0m\u001b[0;32m     33\u001b[0m             \u001b[0mprint\u001b[0m\u001b[1;33m(\u001b[0m\u001b[1;34m\"ecxept 2\"\u001b[0m\u001b[1;33m)\u001b[0m\u001b[1;33m\u001b[0m\u001b[1;33m\u001b[0m\u001b[0m\n",
            "\u001b[1;31mNameError\u001b[0m: name 'NoSuchElementException' is not defined",
            "\nDuring handling of the above exception, another exception occurred:\n",
            "\u001b[1;31mNameError\u001b[0m                                 Traceback (most recent call last)",
            "\u001b[1;32m~\\AppData\\Local\\Temp\\ipykernel_53060\\2854643755.py\u001b[0m in \u001b[0;36m<module>\u001b[1;34m\u001b[0m\n\u001b[0;32m     34\u001b[0m             \u001b[1;31m# If no \"Next\" button is found, break out of the loop\u001b[0m\u001b[1;33m\u001b[0m\u001b[1;33m\u001b[0m\u001b[0m\n\u001b[0;32m     35\u001b[0m             \u001b[1;32mbreak\u001b[0m\u001b[1;33m\u001b[0m\u001b[1;33m\u001b[0m\u001b[0m\n\u001b[1;32m---> 36\u001b[1;33m     \u001b[1;32mexcept\u001b[0m \u001b[0mStaleElementReferenceException\u001b[0m\u001b[1;33m:\u001b[0m\u001b[1;33m\u001b[0m\u001b[1;33m\u001b[0m\u001b[0m\n\u001b[0m\u001b[0;32m     37\u001b[0m         \u001b[1;31m# Re-find the elements if they become stale\u001b[0m\u001b[1;33m\u001b[0m\u001b[1;33m\u001b[0m\u001b[0m\n\u001b[0;32m     38\u001b[0m         \u001b[0melements\u001b[0m \u001b[1;33m=\u001b[0m \u001b[0mdriver\u001b[0m\u001b[1;33m.\u001b[0m\u001b[0mfind_elements\u001b[0m\u001b[1;33m(\u001b[0m\u001b[1;34m\"css selector\"\u001b[0m\u001b[1;33m,\u001b[0m \u001b[1;34m\"editorialinfo\"\u001b[0m\u001b[1;33m)\u001b[0m\u001b[1;33m\u001b[0m\u001b[1;33m\u001b[0m\u001b[0m\n",
            "\u001b[1;31mNameError\u001b[0m: name 'StaleElementReferenceException' is not defined"
          ]
        }
      ],
      "source": [
        "WebDriverWait(driver, 10).until(EC.element_to_be_clickable((By.XPATH,'//button[@id=\"onetrust-accept-btn-handler\"]'))).click()\n",
        "iter=1\n",
        "while True:\n",
        "    print(iter)\n",
        "    try:\n",
        "        elements = driver.find_elements(\"css selector\", \"editorialinfo\")\n",
        "\n",
        "        # Process each element and navigate to its parent node\n",
        "        for element in elements:\n",
        "            # Navigate to the parent node\n",
        "            try:\n",
        "                if \"Jeu vidéo\" in element.text:\n",
        "                    parent_node = element.find_element_by_xpath('....')\n",
        "\n",
        "                    # Find the sibling node using XPath\n",
        "                    sibling_node = parent_node.find_element_by_xpath('preceding-sibling::p[@class=\"Article-desc\"]')\n",
        "                    games.append(sibling_node.text)\n",
        "            except StaleElementReferenceException:\n",
        "                # Re-find the element if it becomes stale\n",
        "                element = driver.find_element(\"css selector\", \"editorialinfo\")\n",
        "                if \"Jeu vidéo\" in element.text:\n",
        "                    parent_node = element.find_element_by_xpath('....')\n",
        "                    sibling_node = parent_node.find_element_by_xpath('preceding-sibling::p[@class=\"Article-desc\"]')\n",
        "                    games.append(sibling_node.text)\n",
        "                    print(\"ecxept 2\")\n",
        "\n",
        "        # Try to find the \"Next\" button and click it\n",
        "        try:\n",
        "            next_button = driver.find_element(\"xpath\", \"//a[@class='ff-button ff-button--medium ff-button--outline infinite__button js-InfiniteScrollNextBtn']\")\n",
        "            driver.execute_script(\"arguments[0].click();\", next_button)\n",
        "            iter+=1\n",
        "        except NoSuchElementException:\n",
        "            print(\"ecxept 2\")\n",
        "            # If no \"Next\" button is found, break out of the loop\n",
        "            break\n",
        "    except StaleElementReferenceException:\n",
        "        # Re-find the elements if they become stale\n",
        "        elements = driver.find_elements(\"css selector\", \"editorialinfo\")\n",
        "        print(\"ecxept 3\")\n",
        "# Close the browser window\n",
        "driver.quit()"
      ]
    },
    {
      "cell_type": "code",
      "execution_count": null,
      "id": "69047847",
      "metadata": {
        "id": "69047847",
        "outputId": "ba2f009f-a20f-4605-edcc-9479e041dcf6"
      },
      "outputs": [
        {
          "ename": "NameError",
          "evalue": "name 'NoSuchElementException' is not defined",
          "output_type": "error",
          "traceback": [
            "\u001b[1;31m---------------------------------------------------------------------------\u001b[0m",
            "\u001b[1;31mStaleElementReferenceException\u001b[0m            Traceback (most recent call last)",
            "\u001b[1;32m~\\AppData\\Local\\Temp\\ipykernel_41336\\4241941953.py\u001b[0m in \u001b[0;36m<module>\u001b[1;34m\u001b[0m\n\u001b[0;32m     38\u001b[0m         \u001b[0mnext_button\u001b[0m \u001b[1;33m=\u001b[0m \u001b[0mdriver\u001b[0m\u001b[1;33m.\u001b[0m\u001b[0mfind_element\u001b[0m\u001b[1;33m(\u001b[0m\u001b[1;34m\"xpath\"\u001b[0m\u001b[1;33m,\u001b[0m \u001b[1;34m\"//a[@class='ff-button ff-button--medium ff-button--outline infinite__button js-InfiniteScrollNextBtn']\"\u001b[0m\u001b[1;33m)\u001b[0m\u001b[1;33m\u001b[0m\u001b[1;33m\u001b[0m\u001b[0m\n\u001b[1;32m---> 39\u001b[1;33m         \u001b[0mdriver\u001b[0m\u001b[1;33m.\u001b[0m\u001b[0mexecute_script\u001b[0m\u001b[1;33m(\u001b[0m\u001b[1;34m\"arguments[0].click();\"\u001b[0m\u001b[1;33m,\u001b[0m \u001b[0mnext_button\u001b[0m\u001b[1;33m)\u001b[0m\u001b[1;33m\u001b[0m\u001b[1;33m\u001b[0m\u001b[0m\n\u001b[0m\u001b[0;32m     40\u001b[0m         \u001b[1;31m#next_button.click()\u001b[0m\u001b[1;33m\u001b[0m\u001b[1;33m\u001b[0m\u001b[0m\n",
            "\u001b[1;32m~\\anaconda3\\lib\\site-packages\\selenium\\webdriver\\remote\\webdriver.py\u001b[0m in \u001b[0;36mexecute_script\u001b[1;34m(self, script, *args)\u001b[0m\n\u001b[0;32m    499\u001b[0m \u001b[1;33m\u001b[0m\u001b[0m\n\u001b[1;32m--> 500\u001b[1;33m         \u001b[1;32mreturn\u001b[0m \u001b[0mself\u001b[0m\u001b[1;33m.\u001b[0m\u001b[0mexecute\u001b[0m\u001b[1;33m(\u001b[0m\u001b[0mcommand\u001b[0m\u001b[1;33m,\u001b[0m \u001b[1;33m{\u001b[0m\u001b[1;34m\"script\"\u001b[0m\u001b[1;33m:\u001b[0m \u001b[0mscript\u001b[0m\u001b[1;33m,\u001b[0m \u001b[1;34m\"args\"\u001b[0m\u001b[1;33m:\u001b[0m \u001b[0mconverted_args\u001b[0m\u001b[1;33m}\u001b[0m\u001b[1;33m)\u001b[0m\u001b[1;33m[\u001b[0m\u001b[1;34m\"value\"\u001b[0m\u001b[1;33m]\u001b[0m\u001b[1;33m\u001b[0m\u001b[1;33m\u001b[0m\u001b[0m\n\u001b[0m\u001b[0;32m    501\u001b[0m \u001b[1;33m\u001b[0m\u001b[0m\n",
            "\u001b[1;32m~\\anaconda3\\lib\\site-packages\\selenium\\webdriver\\remote\\webdriver.py\u001b[0m in \u001b[0;36mexecute\u001b[1;34m(self, driver_command, params)\u001b[0m\n\u001b[0;32m    439\u001b[0m         \u001b[1;32mif\u001b[0m \u001b[0mresponse\u001b[0m\u001b[1;33m:\u001b[0m\u001b[1;33m\u001b[0m\u001b[1;33m\u001b[0m\u001b[0m\n\u001b[1;32m--> 440\u001b[1;33m             \u001b[0mself\u001b[0m\u001b[1;33m.\u001b[0m\u001b[0merror_handler\u001b[0m\u001b[1;33m.\u001b[0m\u001b[0mcheck_response\u001b[0m\u001b[1;33m(\u001b[0m\u001b[0mresponse\u001b[0m\u001b[1;33m)\u001b[0m\u001b[1;33m\u001b[0m\u001b[1;33m\u001b[0m\u001b[0m\n\u001b[0m\u001b[0;32m    441\u001b[0m             \u001b[0mresponse\u001b[0m\u001b[1;33m[\u001b[0m\u001b[1;34m\"value\"\u001b[0m\u001b[1;33m]\u001b[0m \u001b[1;33m=\u001b[0m \u001b[0mself\u001b[0m\u001b[1;33m.\u001b[0m\u001b[0m_unwrap_value\u001b[0m\u001b[1;33m(\u001b[0m\u001b[0mresponse\u001b[0m\u001b[1;33m.\u001b[0m\u001b[0mget\u001b[0m\u001b[1;33m(\u001b[0m\u001b[1;34m\"value\"\u001b[0m\u001b[1;33m,\u001b[0m \u001b[1;32mNone\u001b[0m\u001b[1;33m)\u001b[0m\u001b[1;33m)\u001b[0m\u001b[1;33m\u001b[0m\u001b[1;33m\u001b[0m\u001b[0m\n",
            "\u001b[1;32m~\\anaconda3\\lib\\site-packages\\selenium\\webdriver\\remote\\errorhandler.py\u001b[0m in \u001b[0;36mcheck_response\u001b[1;34m(self, response)\u001b[0m\n\u001b[0;32m    244\u001b[0m             \u001b[1;32mraise\u001b[0m \u001b[0mexception_class\u001b[0m\u001b[1;33m(\u001b[0m\u001b[0mmessage\u001b[0m\u001b[1;33m,\u001b[0m \u001b[0mscreen\u001b[0m\u001b[1;33m,\u001b[0m \u001b[0mstacktrace\u001b[0m\u001b[1;33m,\u001b[0m \u001b[0malert_text\u001b[0m\u001b[1;33m)\u001b[0m  \u001b[1;31m# type: ignore[call-arg]  # mypy is not smart enough here\u001b[0m\u001b[1;33m\u001b[0m\u001b[1;33m\u001b[0m\u001b[0m\n\u001b[1;32m--> 245\u001b[1;33m         \u001b[1;32mraise\u001b[0m \u001b[0mexception_class\u001b[0m\u001b[1;33m(\u001b[0m\u001b[0mmessage\u001b[0m\u001b[1;33m,\u001b[0m \u001b[0mscreen\u001b[0m\u001b[1;33m,\u001b[0m \u001b[0mstacktrace\u001b[0m\u001b[1;33m)\u001b[0m\u001b[1;33m\u001b[0m\u001b[1;33m\u001b[0m\u001b[0m\n\u001b[0m",
            "\u001b[1;31mStaleElementReferenceException\u001b[0m: Message: The element with the reference c3de71fe-c357-44fa-82b2-bfe5b3c06c34 is stale; either its node document is not the active document, or it is no longer connected to the DOM\nStacktrace:\nRemoteError@chrome://remote/content/shared/RemoteError.sys.mjs:8:8\nWebDriverError@chrome://remote/content/shared/webdriver/Errors.sys.mjs:189:5\nStaleElementReferenceError@chrome://remote/content/shared/webdriver/Errors.sys.mjs:676:5\ngetKnownElement@chrome://remote/content/marionette/json.sys.mjs:286:11\ndeserializeJSON@chrome://remote/content/marionette/json.sys.mjs:233:20\ncloneObject/result<@chrome://remote/content/marionette/json.sys.mjs:48:52\ncloneObject@chrome://remote/content/marionette/json.sys.mjs:48:25\ndeserializeJSON@chrome://remote/content/marionette/json.sys.mjs:240:16\ncloneObject@chrome://remote/content/marionette/json.sys.mjs:54:24\ndeserializeJSON@chrome://remote/content/marionette/json.sys.mjs:240:16\njson.deserialize@chrome://remote/content/marionette/json.sys.mjs:244:10\nreceiveMessage@chrome://remote/content/marionette/actors/MarionetteCommandsChild.sys.mjs:72:30\n",
            "\nDuring handling of the above exception, another exception occurred:\n",
            "\u001b[1;31mNameError\u001b[0m                                 Traceback (most recent call last)",
            "\u001b[1;32m~\\AppData\\Local\\Temp\\ipykernel_41336\\4241941953.py\u001b[0m in \u001b[0;36m<module>\u001b[1;34m\u001b[0m\n\u001b[0;32m     39\u001b[0m         \u001b[0mdriver\u001b[0m\u001b[1;33m.\u001b[0m\u001b[0mexecute_script\u001b[0m\u001b[1;33m(\u001b[0m\u001b[1;34m\"arguments[0].click();\"\u001b[0m\u001b[1;33m,\u001b[0m \u001b[0mnext_button\u001b[0m\u001b[1;33m)\u001b[0m\u001b[1;33m\u001b[0m\u001b[1;33m\u001b[0m\u001b[0m\n\u001b[0;32m     40\u001b[0m         \u001b[1;31m#next_button.click()\u001b[0m\u001b[1;33m\u001b[0m\u001b[1;33m\u001b[0m\u001b[0m\n\u001b[1;32m---> 41\u001b[1;33m     \u001b[1;32mexcept\u001b[0m \u001b[0mNoSuchElementException\u001b[0m\u001b[1;33m:\u001b[0m\u001b[1;33m\u001b[0m\u001b[1;33m\u001b[0m\u001b[0m\n\u001b[0m\u001b[0;32m     42\u001b[0m         \u001b[1;31m# If no \"Next\" button is found, break out of the loop\u001b[0m\u001b[1;33m\u001b[0m\u001b[1;33m\u001b[0m\u001b[0m\n\u001b[0;32m     43\u001b[0m         \u001b[1;32mbreak\u001b[0m\u001b[1;33m\u001b[0m\u001b[1;33m\u001b[0m\u001b[0m\n",
            "\u001b[1;31mNameError\u001b[0m: name 'NoSuchElementException' is not defined"
          ]
        }
      ],
      "source": [
        "franchises=[\"Mario\",\n",
        "            \"Zelda\",\n",
        "            \"Assassin's Creed\",\n",
        "            \"Grand Theft Auto\",\n",
        "            \"Far Cry\",\n",
        "            \"Call of Duty\",\n",
        "            \"Halo\",\n",
        "            \"Final Fantasy\",\n",
        "            \"FIFA\",\n",
        "            \"Professeur Layton\",\n",
        "            \"Sims\",\n",
        "            \"Resident Evil\",\n",
        "            \"Hitman\",\n",
        "            \"Mortal Kombat\",\n",
        "            \"Metroid\",\n",
        "            \"Pokemon\",\n",
        "            \"Animal Crossing\"]\n",
        "\n",
        "\"\"\"for f in franchises:\n",
        "  e = driver.find_element_by_class_name('search')\n",
        "  e.send_keys(f)\n",
        "  e.send_keys(Keys.ENTER)\"\"\"\n",
        "games=[]\n",
        "while True:\n",
        "    # Find and process elements on the current page\n",
        "    elements = driver.find_elements(\"css selector\",\"editorialinfo\")\n",
        "\n",
        "    # Process each element and navigate to its parent node\n",
        "    for element in elements:\n",
        "        # Navigate to the parent node\n",
        "        if \"Jeu vidéo\" in element.text:\n",
        "            parent_node = element.find_element_by_xpath('....')\n",
        "\n",
        "            # Find the sibling node using XPath\n",
        "            sibling_node = parent_node.find_element_by_xpath('preceding-sibling::p[@class=\"Article-desc\"]')\n",
        "            games.append(sibling_node.text)\n",
        "\n",
        "    # Try to find the \"Next\" button and click it\n",
        "    try:\n",
        "        next_button = driver.find_element(\"xpath\", \"//a[@class='ff-button ff-button--medium ff-button--outline infinite__button js-InfiniteScrollNextBtn']\")\n",
        "        driver.execute_script(\"arguments[0].click();\", next_button)\n",
        "        #next_button.click()\n",
        "    except NoSuchElementException:\n",
        "        # If no \"Next\" button is found, break out of the loop\n",
        "        break\n",
        "# Close the browser window\n",
        "driver.quit()"
      ]
    },
    {
      "cell_type": "markdown",
      "id": "85c2388c",
      "metadata": {
        "id": "85c2388c"
      },
      "source": [
        "## Job Offers"
      ]
    },
    {
      "cell_type": "code",
      "execution_count": null,
      "id": "2caff37e",
      "metadata": {
        "id": "2caff37e"
      },
      "outputs": [],
      "source": []
    },
    {
      "cell_type": "markdown",
      "id": "871448f1",
      "metadata": {
        "id": "871448f1"
      },
      "source": [
        "## Shut down"
      ]
    },
    {
      "cell_type": "code",
      "execution_count": null,
      "id": "025c6ca3",
      "metadata": {
        "id": "025c6ca3"
      },
      "outputs": [],
      "source": [
        "driver.close()"
      ]
    }
  ],
  "metadata": {
    "kernelspec": {
      "display_name": "Python 3 (ipykernel)",
      "language": "python",
      "name": "python3"
    },
    "language_info": {
      "codemirror_mode": {
        "name": "ipython",
        "version": 3
      },
      "file_extension": ".py",
      "mimetype": "text/x-python",
      "name": "python",
      "nbconvert_exporter": "python",
      "pygments_lexer": "ipython3",
      "version": "3.9.18"
    },
    "colab": {
      "provenance": []
    }
  },
  "nbformat": 4,
  "nbformat_minor": 5
}